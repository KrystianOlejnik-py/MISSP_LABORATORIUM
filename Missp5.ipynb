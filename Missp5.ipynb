{
  "nbformat": 4,
  "nbformat_minor": 0,
  "metadata": {
    "colab": {
      "name": "Missp5.ipynb",
      "provenance": []
    },
    "kernelspec": {
      "name": "python3",
      "display_name": "Python 3"
    }
  },
  "cells": [
    {
      "cell_type": "code",
      "metadata": {
        "id": "x31bHdmJbwE0",
        "colab": {
          "base_uri": "https://localhost:8080/"
        },
        "outputId": "59d55583-35dd-4624-82ad-17e033fc5cc4"
      },
      "source": [
        "#Instalacja biblioteki PuLP\r\n",
        "!pip install pulp"
      ],
      "execution_count": 14,
      "outputs": [
        {
          "output_type": "stream",
          "text": [
            "Requirement already satisfied: pulp in /usr/local/lib/python3.6/dist-packages (2.4)\n",
            "Requirement already satisfied: amply>=0.1.2 in /usr/local/lib/python3.6/dist-packages (from pulp) (0.1.4)\n",
            "Requirement already satisfied: pyparsing in /usr/local/lib/python3.6/dist-packages (from amply>=0.1.2->pulp) (2.4.7)\n",
            "Requirement already satisfied: docutils>=0.3 in /usr/local/lib/python3.6/dist-packages (from amply>=0.1.2->pulp) (0.16)\n"
          ],
          "name": "stdout"
        }
      ]
    },
    {
      "cell_type": "code",
      "metadata": {
        "id": "4fNHH_fCbyOL",
        "colab": {
          "base_uri": "https://localhost:8080/"
        },
        "outputId": "f2c31da8-2204-465f-bcfb-48d04947480b"
      },
      "source": [
        "#Załączamy zainstalowaną bibliotekę i sprawdzamy wersje\r\n",
        "import pulp\r\n",
        "\r\n",
        "print(pulp.__version__)"
      ],
      "execution_count": 15,
      "outputs": [
        {
          "output_type": "stream",
          "text": [
            "2.4\n"
          ],
          "name": "stdout"
        }
      ]
    },
    {
      "cell_type": "code",
      "metadata": {
        "id": "jcVBCr-Bbzn5",
        "colab": {
          "base_uri": "https://localhost:8080/"
        },
        "outputId": "f486f3d0-34f6-4ca7-c17b-3b051f2a64d4"
      },
      "source": [
        "#Instalacja pozostałych narzędzi niezbędnych do przeprowadzenia zadań\r\n",
        "!sudo apt-get install coinor-cbc glpk-utils coinor-clp"
      ],
      "execution_count": 17,
      "outputs": [
        {
          "output_type": "stream",
          "text": [
            "Reading package lists... Done\n",
            "Building dependency tree       \n",
            "Reading state information... Done\n",
            "coinor-cbc is already the newest version (2.9.9+repack1-1).\n",
            "coinor-clp is already the newest version (1.16.11+repack1-1).\n",
            "glpk-utils is already the newest version (4.65-1).\n",
            "0 upgraded, 0 newly installed, 0 to remove and 12 not upgraded.\n"
          ],
          "name": "stdout"
        }
      ]
    },
    {
      "cell_type": "code",
      "metadata": {
        "id": "aH5Ahxx1b03A",
        "colab": {
          "base_uri": "https://localhost:8080/"
        },
        "outputId": "08052f57-52ef-467b-9163-319c56d17833"
      },
      "source": [
        "#Sprawdzamy dostępność poszczególnych narzędzi biblioteki PuLP. \r\n",
        "pulp.pulpTestAll()"
      ],
      "execution_count": 18,
      "outputs": [
        {
          "output_type": "stream",
          "text": [
            ".................."
          ],
          "name": "stderr"
        },
        {
          "output_type": "stream",
          "text": [
            "Solver <class 'pulp.apis.coin_api.PULP_CBC_CMD'> available\n",
            "Solver <class 'pulp.apis.cplex_api.CPLEX_DLL'> unavailable\n",
            "Solver <class 'pulp.apis.cplex_api.CPLEX_CMD'> unavailable\n",
            "Solver <class 'pulp.apis.cplex_api.CPLEX_PY'> unavailable\n",
            "Solver <class 'pulp.apis.coin_api.COIN_CMD'> available\n",
            "Solver <class 'pulp.apis.coin_api.COINMP_DLL'> unavailable\n",
            "Solver <class 'pulp.apis.glpk_api.GLPK_CMD'> available\n",
            "Solver <class 'pulp.apis.xpress_api.XPRESS'> unavailable\n",
            "Solver <class 'pulp.apis.gurobi_api.GUROBI'> unavailable\n",
            "Solver <class 'pulp.apis.gurobi_api.GUROBI_CMD'> unavailable\n",
            "Solver <class 'pulp.apis.glpk_api.PYGLPK'> unavailable\n",
            "Solver <class 'pulp.apis.coin_api.YAPOSIB'> unavailable\n",
            "Solver <class 'pulp.apis.choco_api.PULP_CHOCO_CMD'> available\n",
            "Solver <class 'pulp.apis.choco_api.CHOCO_CMD'> unavailable\n",
            "Solver <class 'pulp.apis.mipcl_api.MIPCL_CMD'> unavailable\n",
            "Solver <class 'pulp.apis.mosek_api.MOSEK'> unavailable\n",
            "Solver <class 'pulp.apis.scip_api.SCIP_CMD'> unavailable\n",
            "\t Testing invalid status\n",
            "\t Testing continuous LP solution - export dict\n",
            "\t Testing export dict for LP\n",
            "\t Testing MIP solution\n",
            "\t Testing maximize continuous LP solution\n",
            "\t Testing continuous LP solution - export JSON\n",
            "\t Testing continuous LP solution - export solver dict\n",
            "\t Testing continuous LP solution - export solver JSON\n",
            "\t Testing reading MPS files - binary variable, no constraint names\n",
            "\t Testing reading MPS files - integer variable\n",
            "\t Testing reading MPS files - maximize\n",
            "\t Testing logPath argument\n",
            "\t Testing makeDict general behavior\n",
            "\t Testing makeDict default value behavior\n",
            "\t Testing the availability of the function pulpTestAll\n",
            "\t Testing zero subtraction\n",
            "\t Testing inconsistent lp solution\n",
            "\t Testing continuous LP solution\n",
            "\t Testing maximize continuous LP solution\n"
          ],
          "name": "stdout"
        },
        {
          "output_type": "stream",
          "text": [
            ".............."
          ],
          "name": "stderr"
        },
        {
          "output_type": "stream",
          "text": [
            "\t Testing unbounded continuous LP solution\n",
            "\t Testing Long Names\n",
            "\t Testing repeated Names\n",
            "\t Testing zero constraint\n",
            "\t Testing zero objective\n",
            "\t Testing LpVariable (not LpAffineExpression) objective\n",
            "\t Testing Long lines in LP\n",
            "\t Testing LpAffineExpression divide\n",
            "\t Testing MIP solution\n",
            "\t Testing MIP solution with floats in objective\n",
            "\t Testing MIP solution\n",
            "\t Testing MIP solution\n",
            "\t Testing MIP relaxation\n",
            "\t Testing feasibility problem (no objective)\n"
          ],
          "name": "stdout"
        },
        {
          "output_type": "stream",
          "text": [
            "................"
          ],
          "name": "stderr"
        },
        {
          "output_type": "stream",
          "text": [
            "\t Testing an infeasible problem\n",
            "\t Testing an integer infeasible problem\n",
            "\t Testing another integer infeasible problem\n",
            "\t Testing column based modelling\n",
            "\t Testing dual variables and slacks reporting\n",
            "\t Testing fractional constraints\n",
            "\t Testing elastic constraints (no change)\n",
            "\t Testing elastic constraints (freebound)\n",
            "\t Testing elastic constraints (penalty unchanged)\n",
            "\t Testing elastic constraints (penalty unbounded)\n",
            "\t Testing timeLimit argument\n",
            "\t Testing invalid status\n",
            "\t Testing continuous LP solution - export dict\n"
          ],
          "name": "stdout"
        },
        {
          "output_type": "stream",
          "text": [
            "................"
          ],
          "name": "stderr"
        },
        {
          "output_type": "stream",
          "text": [
            "\t Testing export dict for LP\n",
            "\t Testing MIP solution\n",
            "\t Testing maximize continuous LP solution\n",
            "\t Testing continuous LP solution - export JSON\n",
            "\t Testing continuous LP solution - export solver dict\n",
            "\t Testing continuous LP solution - export solver JSON\n",
            "\t Testing reading MPS files - binary variable, no constraint names\n",
            "\t Testing reading MPS files - integer variable\n",
            "\t Testing reading MPS files - maximize\n",
            "\t Testing logPath argument\n",
            "\t Testing makeDict general behavior\n",
            "\t Testing makeDict default value behavior\n",
            "\t Testing the availability of the function pulpTestAll\n",
            "\t Testing zero subtraction\n",
            "\t Testing inconsistent lp solution\n",
            "\t Testing continuous LP solution\n"
          ],
          "name": "stdout"
        },
        {
          "output_type": "stream",
          "text": [
            "............"
          ],
          "name": "stderr"
        },
        {
          "output_type": "stream",
          "text": [
            "\t Testing maximize continuous LP solution\n",
            "\t Testing unbounded continuous LP solution\n",
            "\t Testing Long Names\n",
            "\t Testing repeated Names\n",
            "\t Testing zero constraint\n",
            "\t Testing zero objective\n",
            "\t Testing LpVariable (not LpAffineExpression) objective\n",
            "\t Testing Long lines in LP\n",
            "\t Testing LpAffineExpression divide\n",
            "\t Testing MIP solution\n",
            "\t Testing MIP solution with floats in objective\n",
            "\t Testing MIP solution\n"
          ],
          "name": "stdout"
        },
        {
          "output_type": "stream",
          "text": [
            "..............."
          ],
          "name": "stderr"
        },
        {
          "output_type": "stream",
          "text": [
            "\t Testing MIP solution\n",
            "\t Testing MIP relaxation\n",
            "\t Testing feasibility problem (no objective)\n",
            "\t Testing an infeasible problem\n",
            "\t Testing an integer infeasible problem\n",
            "\t Testing another integer infeasible problem\n",
            "\t Testing column based modelling\n",
            "\t Testing fractional constraints\n",
            "\t Testing elastic constraints (no change)\n",
            "\t Testing elastic constraints (freebound)\n"
          ],
          "name": "stdout"
        },
        {
          "output_type": "stream",
          "text": [
            "...................."
          ],
          "name": "stderr"
        },
        {
          "output_type": "stream",
          "text": [
            "\t Testing elastic constraints (penalty unchanged)\n",
            "\t Testing elastic constraints (penalty unbounded)\n",
            "\t Testing timeLimit argument\n",
            "\t Testing invalid status\n",
            "\t Testing continuous LP solution - export dict\n",
            "\t Testing export dict for LP\n",
            "\t Testing MIP solution\n",
            "\t Testing maximize continuous LP solution\n",
            "\t Testing continuous LP solution - export JSON\n",
            "\t Testing continuous LP solution - export solver dict\n",
            "\t Testing continuous LP solution - export solver JSON\n",
            "\t Testing reading MPS files - binary variable, no constraint names\n",
            "\t Testing reading MPS files - integer variable\n",
            "\t Testing reading MPS files - maximize\n",
            "\t Testing makeDict general behavior\n",
            "\t Testing makeDict default value behavior\n",
            "\t Testing the availability of the function pulpTestAll\n",
            "\t Testing zero subtraction\n",
            "\t Testing inconsistent lp solution\n"
          ],
          "name": "stdout"
        },
        {
          "output_type": "stream",
          "text": [
            "................"
          ],
          "name": "stderr"
        },
        {
          "output_type": "stream",
          "text": [
            "\t Testing continuous LP solution\n",
            "\t Testing maximize continuous LP solution\n",
            "\t Testing unbounded continuous LP solution\n",
            "\t Testing Long Names\n",
            "\t Testing repeated Names\n",
            "\t Testing zero constraint\n",
            "\t Testing zero objective\n",
            "\t Testing LpVariable (not LpAffineExpression) objective\n",
            "\t Testing LpAffineExpression divide\n",
            "\t Testing MIP solution\n",
            "\t Testing MIP solution with floats in objective\n",
            "\t Testing MIP solution\n",
            "\t Testing MIP solution\n",
            "\t Testing MIP relaxation\n",
            "\t Testing feasibility problem (no objective)\n",
            "\t Testing an infeasible problem\n"
          ],
          "name": "stdout"
        },
        {
          "output_type": "stream",
          "text": [
            "..............."
          ],
          "name": "stderr"
        },
        {
          "output_type": "stream",
          "text": [
            "\t Testing an integer infeasible problem\n",
            "\t Testing another integer infeasible problem\n",
            "\t Testing column based modelling\n",
            "\t Testing fractional constraints\n",
            "\t Testing elastic constraints (no change)\n",
            "\t Testing elastic constraints (freebound)\n",
            "\t Testing elastic constraints (penalty unchanged)\n",
            "\t Testing elastic constraints (penalty unbounded)\n",
            "\t Testing timeLimit argument\n",
            "\t Testing invalid status\n",
            "\t Testing continuous LP solution - export dict\n"
          ],
          "name": "stdout"
        },
        {
          "output_type": "stream",
          "text": [
            "."
          ],
          "name": "stderr"
        },
        {
          "output_type": "stream",
          "text": [
            "\t Testing export dict for LP\n"
          ],
          "name": "stdout"
        },
        {
          "output_type": "stream",
          "text": [
            "."
          ],
          "name": "stderr"
        },
        {
          "output_type": "stream",
          "text": [
            "\t Testing MIP solution\n"
          ],
          "name": "stdout"
        },
        {
          "output_type": "stream",
          "text": [
            "."
          ],
          "name": "stderr"
        },
        {
          "output_type": "stream",
          "text": [
            "\t Testing maximize continuous LP solution\n"
          ],
          "name": "stdout"
        },
        {
          "output_type": "stream",
          "text": [
            "."
          ],
          "name": "stderr"
        },
        {
          "output_type": "stream",
          "text": [
            "\t Testing continuous LP solution - export JSON\n"
          ],
          "name": "stdout"
        },
        {
          "output_type": "stream",
          "text": [
            "."
          ],
          "name": "stderr"
        },
        {
          "output_type": "stream",
          "text": [
            "\t Testing continuous LP solution - export solver dict\n"
          ],
          "name": "stdout"
        },
        {
          "output_type": "stream",
          "text": [
            "."
          ],
          "name": "stderr"
        },
        {
          "output_type": "stream",
          "text": [
            "\t Testing continuous LP solution - export solver JSON\n"
          ],
          "name": "stdout"
        },
        {
          "output_type": "stream",
          "text": [
            ".........."
          ],
          "name": "stderr"
        },
        {
          "output_type": "stream",
          "text": [
            "\t Testing reading MPS files - binary variable, no constraint names\n",
            "\t Testing reading MPS files - integer variable\n",
            "\t Testing reading MPS files - maximize\n",
            "\t Testing makeDict general behavior\n",
            "\t Testing makeDict default value behavior\n",
            "\t Testing the availability of the function pulpTestAll\n",
            "\t Testing zero subtraction\n",
            "\t Testing inconsistent lp solution\n",
            "\t Testing continuous LP solution\n"
          ],
          "name": "stdout"
        },
        {
          "output_type": "stream",
          "text": [
            "."
          ],
          "name": "stderr"
        },
        {
          "output_type": "stream",
          "text": [
            "\t Testing maximize continuous LP solution\n"
          ],
          "name": "stdout"
        },
        {
          "output_type": "stream",
          "text": [
            ".."
          ],
          "name": "stderr"
        },
        {
          "output_type": "stream",
          "text": [
            "\t Testing unbounded continuous LP solution\n",
            "\t Testing Long Names\n"
          ],
          "name": "stdout"
        },
        {
          "output_type": "stream",
          "text": [
            ".."
          ],
          "name": "stderr"
        },
        {
          "output_type": "stream",
          "text": [
            "\t Testing repeated Names\n",
            "\t Testing zero constraint\n"
          ],
          "name": "stdout"
        },
        {
          "output_type": "stream",
          "text": [
            "."
          ],
          "name": "stderr"
        },
        {
          "output_type": "stream",
          "text": [
            "\t Testing zero objective\n"
          ],
          "name": "stdout"
        },
        {
          "output_type": "stream",
          "text": [
            "."
          ],
          "name": "stderr"
        },
        {
          "output_type": "stream",
          "text": [
            "\t Testing LpVariable (not LpAffineExpression) objective\n"
          ],
          "name": "stdout"
        },
        {
          "output_type": "stream",
          "text": [
            ".."
          ],
          "name": "stderr"
        },
        {
          "output_type": "stream",
          "text": [
            "\t Testing LpAffineExpression divide\n"
          ],
          "name": "stdout"
        },
        {
          "output_type": "stream",
          "text": [
            "."
          ],
          "name": "stderr"
        },
        {
          "output_type": "stream",
          "text": [
            "\t Testing MIP solution\n"
          ],
          "name": "stdout"
        },
        {
          "output_type": "stream",
          "text": [
            "."
          ],
          "name": "stderr"
        },
        {
          "output_type": "stream",
          "text": [
            "\t Testing MIP solution with floats in objective\n"
          ],
          "name": "stdout"
        },
        {
          "output_type": "stream",
          "text": [
            "."
          ],
          "name": "stderr"
        },
        {
          "output_type": "stream",
          "text": [
            "\t Testing MIP solution\n"
          ],
          "name": "stdout"
        },
        {
          "output_type": "stream",
          "text": [
            "."
          ],
          "name": "stderr"
        },
        {
          "output_type": "stream",
          "text": [
            "\t Testing MIP solution\n"
          ],
          "name": "stdout"
        },
        {
          "output_type": "stream",
          "text": [
            "./usr/local/lib/python3.6/dist-packages/pulp/apis/choco_api.py:83: UserWarning: CHOCO_CMD cannot solve the relaxation of a problem\n",
            "  warnings.warn(\"CHOCO_CMD cannot solve the relaxation of a problem\")\n"
          ],
          "name": "stderr"
        },
        {
          "output_type": "stream",
          "text": [
            "\t Testing MIP relaxation\n"
          ],
          "name": "stdout"
        },
        {
          "output_type": "stream",
          "text": [
            "."
          ],
          "name": "stderr"
        },
        {
          "output_type": "stream",
          "text": [
            "\t Testing feasibility problem (no objective)\n"
          ],
          "name": "stdout"
        },
        {
          "output_type": "stream",
          "text": [
            "."
          ],
          "name": "stderr"
        },
        {
          "output_type": "stream",
          "text": [
            "\t Testing an infeasible problem\n"
          ],
          "name": "stdout"
        },
        {
          "output_type": "stream",
          "text": [
            "."
          ],
          "name": "stderr"
        },
        {
          "output_type": "stream",
          "text": [
            "\t Testing an integer infeasible problem\n"
          ],
          "name": "stdout"
        },
        {
          "output_type": "stream",
          "text": [
            "."
          ],
          "name": "stderr"
        },
        {
          "output_type": "stream",
          "text": [
            "\t Testing another integer infeasible problem\n"
          ],
          "name": "stdout"
        },
        {
          "output_type": "stream",
          "text": [
            "."
          ],
          "name": "stderr"
        },
        {
          "output_type": "stream",
          "text": [
            "\t Testing column based modelling\n"
          ],
          "name": "stdout"
        },
        {
          "output_type": "stream",
          "text": [
            "....."
          ],
          "name": "stderr"
        },
        {
          "output_type": "stream",
          "text": [
            "\t Testing fractional constraints\n"
          ],
          "name": "stdout"
        },
        {
          "output_type": "stream",
          "text": [
            "."
          ],
          "name": "stderr"
        },
        {
          "output_type": "stream",
          "text": [
            "\t Testing elastic constraints (no change)\n"
          ],
          "name": "stdout"
        },
        {
          "output_type": "stream",
          "text": [
            "."
          ],
          "name": "stderr"
        },
        {
          "output_type": "stream",
          "text": [
            "\t Testing elastic constraints (freebound)\n"
          ],
          "name": "stdout"
        },
        {
          "output_type": "stream",
          "text": [
            "."
          ],
          "name": "stderr"
        },
        {
          "output_type": "stream",
          "text": [
            "\t Testing elastic constraints (penalty unchanged)\n"
          ],
          "name": "stdout"
        },
        {
          "output_type": "stream",
          "text": [
            "................"
          ],
          "name": "stderr"
        },
        {
          "output_type": "stream",
          "text": [
            "\t Testing elastic constraints (penalty unbounded)\n",
            "\t Testing timeLimit argument\n"
          ],
          "name": "stdout"
        },
        {
          "output_type": "stream",
          "text": [
            "..............................\n",
            "----------------------------------------------------------------------\n",
            "Ran 231 tests in 40.027s\n",
            "\n",
            "OK\n"
          ],
          "name": "stderr"
        }
      ]
    },
    {
      "cell_type": "code",
      "metadata": {
        "colab": {
          "base_uri": "https://localhost:8080/"
        },
        "id": "e-H6eGJcb8Di",
        "outputId": "ed2f6a91-80d3-4bb4-c724-a5dc4ec89eea"
      },
      "source": [
        "#Opis problemu nr 1:\r\n",
        "#Mamy mostek utworzony z pięciu rezystorów. Przez każdy z nich płynie określony prąd, przy czym musi być spełniony warunek:\r\n",
        "#Ii - deltai <= Ii <= Ii + deltai (gdzie \"i\" = 1...5 czyli prąd odpowiadający każdemu z kolejnych rezystorów)\r\n",
        "#Znamy napięcia Ui\r\n",
        "#Dobieramy rezystory przy zachowaniu warunku uzyskania minimalnej mocy rozproszonej na mostku.\r\n",
        "\r\n",
        "#Dane jakimi się posługujemy są następujące:\r\n",
        "#Rezystor1: \r\n",
        "#  - U1 = 6V\r\n",
        "#  - I1 = 4mA\r\n",
        "#Rezystor2: \r\n",
        "#  - U2 = 10V\r\n",
        "#  - I2 = 2mA\r\n",
        "#ezystor3: \r\n",
        "#  - U3 = 4V\r\n",
        "#  - I3 = 2mA\r\n",
        "#Rezystor4: \r\n",
        "#  - U4 = 7V\r\n",
        "#  - I4 = 2mA\r\n",
        "#Rezystor5: \r\n",
        "#  - U5 = 3V\r\n",
        "#  - I5 = 4mA\r\n",
        "#Przy czym dla wszystkich rezystorów deltai wynosi = 1mA\r\n",
        "\r\n",
        "################################################################################################################################\r\n",
        "#Realizacja rozwiązania problemu nr 1:\r\n",
        "\r\n",
        "from pulp import *\r\n",
        "\r\n",
        "#Inicjalizacja zmiennej problem. LpMinimize -dazymy do minimalizacji mocy\r\n",
        "problem = LpProblem(\"Rezystory\",LpMinimize)\r\n",
        "\r\n",
        "#Tworzenie zmiennych dla PuLP. Chcemy wyznaczyć jakie prądy przepłyną przez rezystory z warunku:  Ii - deltai <= Ii <= Ii + deltai\r\n",
        "I1 = LpVariable(\"Prad_1\",0)\r\n",
        "I2 = LpVariable(\"Prad_2\",0)\r\n",
        "I3 = LpVariable(\"Prad_3\",0)\r\n",
        "I4 = LpVariable(\"Prad_4\",0)\r\n",
        "I5 = LpVariable(\"Prad_5\",0)\r\n",
        "\r\n",
        "\r\n",
        "#Wyznaczenie warunku ktory w zaleznosci od dobranego pracy rezystora bedzie wyznaczac moc wyedzialana na mostku\r\n",
        "problem += 6*I1 + 10*I2 + 4*I3 + 7*I4 + 3*I5, \"Moc wydzielana na mostku\"\r\n",
        "\r\n",
        "#Lizby przypadające na Prad_i_min i Prad_i_max wynikają z założenia:  Ii - deltai <= Ii <= Ii + deltai\r\n",
        "#Warunki doboru prądu dla R1 \r\n",
        "problem += I1 >= 3, \"Prad_1_min\"\r\n",
        "problem += I1 <= 5, \"Prad_1_max\"\r\n",
        "\r\n",
        "#Warunki doboru prądu dla R2 \r\n",
        "problem += I2 >= 1, \"Prad_2_min\"\r\n",
        "problem += I2 <= 3, \"Prad_2_max\"\r\n",
        " \r\n",
        "#Warunki doboru prądu dla R3 \r\n",
        "problem += I3 >= 1, \"Prad_3_min\"\r\n",
        "problem += I3 <= 3, \"Prad_3_max\"\r\n",
        "\r\n",
        "#Warunki doboru prądu dla R4  \r\n",
        "problem += I4 >= 1, \"Prad_4_min\"\r\n",
        "problem += I4 <= 3, \"Prad_4_max\"\r\n",
        "\r\n",
        "#Warunki doboru prądu dla R5\r\n",
        "problem += I5 >= 3, \"Prad_5_min\"\r\n",
        "problem += I5 <= 5, \"Prad_5_max\"\r\n",
        "\r\n",
        "#Funkcja rozwiazujaca problem przez program\r\n",
        "problem.solve()\r\n",
        " \r\n",
        "#Printowanie statusu rozwiązania problemu \r\n",
        "print(\"Status:\", LpStatus[problem.status])\r\n",
        "\r\n",
        "#Wyprintowanie nazw i wartości wszystkich prądów \r\n",
        "for v in problem.variables():\r\n",
        "    print (v.name, \"=\", v.varValue)\r\n",
        "\r\n",
        "#Wyznaczenie najbardziej optymalnych rezystancji\r\n",
        "# R = U/I = V/mA = V/A*10^-3 = ohm*10^3 = kOhm\r\n",
        "print(\"R1: \", 6/I1.varValue,\"kOhm\")\r\n",
        "print(\"R2: \", 10/I2.varValue,\"kOhm\")\r\n",
        "print(\"R3: \", 4/I3.varValue,\"kOhm\")\r\n",
        "print(\"R4: \", 7/I4.varValue,\"kOhm\")\r\n",
        "print(\"R5: \", 3/I5.varValue,\"kOhm\")"
      ],
      "execution_count": 23,
      "outputs": [
        {
          "output_type": "stream",
          "text": [
            "Status: Optimal\n",
            "Prad_1 = 3.0\n",
            "Prad_2 = 1.0\n",
            "Prad_3 = 1.0\n",
            "Prad_4 = 1.0\n",
            "Prad_5 = 3.0\n",
            "R1:  2.0 kOhm\n",
            "R2:  10.0 kOhm\n",
            "R3:  4.0 kOhm\n",
            "R4:  7.0 kOhm\n",
            "R5:  1.0 kOhm\n"
          ],
          "name": "stdout"
        }
      ]
    },
    {
      "cell_type": "code",
      "metadata": {
        "colab": {
          "base_uri": "https://localhost:8080/"
        },
        "id": "UIp5HzJDeJUO",
        "outputId": "3197cd34-f2fd-4d79-f20b-aaad1143016b"
      },
      "source": [
        "#Opis problemu nr 2\r\n",
        "#Układ utworzony z 5 oporników.\r\n",
        "#Zadaniem jest napisanie programu, który odpowie na pytanie jaki maksymalny prąd może przepłynąć przez układ. \r\n",
        "#Wiedząc, że maksymalny prąd lda poszlczegolnych rezystorow wynosi\r\n",
        "#I1 = 2A\r\n",
        "#I2 = 3A\r\n",
        "#I3 = 4A\r\n",
        "#I4 = 2A\r\n",
        "#I5 = 2A\r\n",
        "\r\n",
        "#########################################\r\n",
        "#REALIZACJA\r\n",
        "\r\n",
        "#Importowanie biblioteki PuLP\r\n",
        "from pulp import *\r\n",
        "\r\n",
        "#Inicjalizacja zmiennej problem. LpMaximize \r\n",
        "problem = LpProblem(\"Maksymalny prąd całego układu\", LpMaximize)\r\n",
        "\r\n",
        "#Tworzenie zmiennych dla PuLP, aby wyznaczyc jakie prady przeplyna przez rezystory\r\n",
        "I1 = LpVariable(\"Prad_1\", 0)\r\n",
        "I2 = LpVariable(\"Prad_2\", 0)\r\n",
        "I3 = LpVariable(\"Prad_3\", 0)\r\n",
        "I4 = LpVariable(\"Prad_4\", 0)\r\n",
        "I5 = LpVariable(\"Prad_5\", 0)\r\n",
        "\r\n",
        "#Warunki \r\n",
        "\r\n",
        "#przez ten rezystor zawsze popłynie prąd maksymalny ( 4A )\r\n",
        "problem += I3, \"Maksymalny prąd układu\"\r\n",
        "\r\n",
        "# na podstawie pradowego prawa Kirchhoffa, prady moga rozcielac się miedzy poszczegolne rezystory przy czym wartosc tych pradow musi być nie wiesza niz prad I3\r\n",
        "problem += I1 + I2 == I3, \"Prąd rezystorów R1, R2\"\r\n",
        "problem += I4 + I5 == I3, \"Prąd rezystorow R4, R5\"\r\n",
        "\r\n",
        "#Tworzenie warunków maksymalnych pradow przypadajacych na kazdy rezystor\r\n",
        "problem += I1 <= 2.0, \"Maksymalny prad rezystora R1\"\r\n",
        "problem += I2 <= 3.0, \"Maksymalny prad rezystora R2\"\r\n",
        "problem += I3 <= 4.0, \"Maksymalny prad rezystora R3\"\r\n",
        "problem += I4 <= 2.0, \"Maksymalny prad rezystora R4\"\r\n",
        "problem += I5 <= 2.0, \"Maksymalny prad rezystora R5\"\r\n",
        "\r\n",
        "#Funkcja rozwiazujaca zadany problem\r\n",
        "problem.solve()\r\n",
        "\r\n",
        "#Status problemy\r\n",
        "print(\"Status: \", LpStatus[problem.status])\r\n",
        "\r\n",
        "\r\n",
        "for v in problem.variables():\r\n",
        "  print(v.name, \" = \", v.varValue)\r\n",
        "\r\n",
        "print(\"Maksymalny prąd jaki przepłynie przez układ to: \", I3.varValue, \"A\")"
      ],
      "execution_count": 24,
      "outputs": [
        {
          "output_type": "stream",
          "text": [
            "Status:  Optimal\n",
            "Prad_1  =  1.0\n",
            "Prad_2  =  3.0\n",
            "Prad_3  =  4.0\n",
            "Prad_4  =  2.0\n",
            "Prad_5  =  2.0\n",
            "Maksymalny prąd jaki przepłynie przez układ to:  4.0 A\n"
          ],
          "name": "stdout"
        },
        {
          "output_type": "stream",
          "text": [
            "/usr/local/lib/python3.6/dist-packages/pulp/pulp.py:1199: UserWarning: Spaces are not permitted in the name. Converted to '_'\n",
            "  warnings.warn(\"Spaces are not permitted in the name. Converted to '_'\")\n"
          ],
          "name": "stderr"
        }
      ]
    }
  ]
}