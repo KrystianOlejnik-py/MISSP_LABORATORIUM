{
  "nbformat": 4,
  "nbformat_minor": 0,
  "metadata": {
    "colab": {
      "name": "Missp2.ipynb",
      "provenance": []
    },
    "kernelspec": {
      "name": "python3",
      "display_name": "Python 3"
    }
  },
  "cells": [
    {
      "cell_type": "code",
      "metadata": {
        "colab": {
          "base_uri": "https://localhost:8080/"
        },
        "id": "q3T1beB8T2KN",
        "outputId": "01e6b96b-b56d-4653-da19-0d831302cb31"
      },
      "source": [
        "#challenge 1\r\n",
        "#Stworz typ NumerTelefonu\r\n",
        "# -przy tworzeniu typu sprawdza czy numer jest wlasciwy, jeśli nie jest wyswietla error \r\n",
        "# -Printuje numr slownie\r\n",
        "# -gdy wywoluje wojewodztwa wyswietla mi jakie to wojewodztwo \r\n",
        "\r\n",
        "\r\n",
        "\r\n",
        "\r\n",
        "#Tworzenie klasy o nazwie NumerTelefonu\r\n",
        "class NumerTelefonu:\r\n",
        "    #Funkcja inicjalizacyjna, przypisywanie wartości\r\n",
        "    def __init__(self, numer_telefonu):\r\n",
        "        self.numer = numer_telefonu\r\n",
        "        self.numerslowempisany = {1: \"jeden\", 2: \"dwa\", 3: \"trzy\", 4: \"cztery\", 5: \"pięć\", 6: \"sześć\", 7: \"siedem\", 8: \"osiem\", 9: \"dziewięć\"}\r\n",
        "        self.numer_tablica = []\r\n",
        "        liczba_znakow = (len(self.numer))\r\n",
        "        #Warunek sprawdzający czy numer ma 9 znakow\r\n",
        "        if liczba_znakow == 9:\r\n",
        "            print(\"numer prawidlowy\")\r\n",
        "        else:\r\n",
        "            print(\"numer nieprawidlowy\")\r\n",
        " \r\n",
        "    #Funkja przypisująca podany numer telefonu do konkretnego województwa sprawdzając dwie pierwsze cyfry numeru\r\n",
        "    @property\r\n",
        "    def wojewodztwo(self):\r\n",
        "        if self.numer[0] == \"4\" and self.numer[1] == \"2\" \\\r\n",
        "                or self.numer[0] == \"4\" and self.numer[1] == \"3\"\\\r\n",
        "                or self.numer[0] == \"4\" and self.numer[1] == \"4\"\\\r\n",
        "                or self.numer[0] == \"4\" and self.numer[1] == \"6\":\r\n",
        "            return \"Lodzkie\"\r\n",
        "        if self.numer[0] == \"4\" and self.numer[1] == \"1\":\r\n",
        "            return \"Świętokrzyskie\"\r\n",
        "        if self.numer[0] == \"9\" and self.numer[1] == \"4\" \\\r\n",
        "                or self.numer[0] == \"9\" and self.numer[1] == \"1\":\r\n",
        "            return \"Zachodnio-pomorskie\"\r\n",
        "        else:\r\n",
        "            return \"Nie posiadam informacji o województwie\"\r\n",
        "    #Funkcja printująca literowany numer \r\n",
        "    def __str__(self):\r\n",
        "        for i in self.numer:\r\n",
        "            self.numer_tablica.append(self.numerslowempisany[int(i)])\r\n",
        "        return \"Numer telefonu to: {}\".format(\" \".join(self.numer_tablica))\r\n",
        " \r\n",
        "#Interesujące nas operacje w programie należy odkomentować:\r\n",
        "#Przykładowe numery telefonów:\r\n",
        "numer_lodz = NumerTelefonu(\"421111111\")\r\n",
        "#numer_kielce = NumerTelefonu(\"411111111\")\r\n",
        "#numer_piotrkow = NumerTelefonu(\"441111111\")\r\n",
        "#numer_szczecin = NumerTelefonu(\"911111111\")\r\n",
        "#numer_sieradz = NumerTelefonu(\"431111111\")\r\n",
        "#numer_skierniewice = NumerTelefonu(\"461111111\")\r\n",
        "#numer_koszalin = NumerTelefonu(\"941111111\")\r\n",
        "\r\n",
        "\r\n",
        "#Wojewodztwo\r\n",
        "numer_lodz.wojewodztwo\r\n",
        " \r\n",
        "#slownie\r\n",
        "print(numer_lodz)\r\n",
        "\r\n",
        " \r\n",
        "\r\n",
        "\r\n",
        "\r\n",
        "\r\n",
        "\r\n",
        "\r\n"
      ],
      "execution_count": 3,
      "outputs": [
        {
          "output_type": "stream",
          "text": [
            "numer prawidlowyr\n",
            "Numer telefonu to: cztery dwa jeden jeden jeden jeden jeden jeden jeden\n"
          ],
          "name": "stdout"
        }
      ]
    }
  ]
}