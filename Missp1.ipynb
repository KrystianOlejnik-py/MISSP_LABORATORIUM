{
  "nbformat": 4,
  "nbformat_minor": 0,
  "metadata": {
    "colab": {
      "name": "Missp1",
      "provenance": []
    },
    "kernelspec": {
      "name": "python3",
      "display_name": "Python 3"
    }
  },
  "cells": [
    {
      "cell_type": "code",
      "metadata": {
        "colab": {
          "base_uri": "https://localhost:8080/"
        },
        "id": "y6rqYI0HOx7z",
        "outputId": "5546c605-78ce-45d8-c181-268bd48f09c9"
      },
      "source": [
        "#### challenge 0.1\r\n",
        "\r\n",
        "#Tablica z podziałem konkretnych zajęć\r\n",
        "zajecia = [\"wf\",\"informatyka\",\"relax\",\"mispy\",\"piateczek\"]\r\n",
        "#Tablica z podziałem na dni tygodnia\r\n",
        "dnityg= [\"Pon\",\"Wto\",\"Sro\",\"Czwar\",\"Pio\"]\r\n",
        "\r\n",
        "# ZADANIE: wyprintuj zajecia od srody do piatku\r\n",
        "#Pętla łącząca ze sobą tablice \"zajecia\" i \"dnityg\", po przeprowadzeniu przez warunek \"if wynik > 1\" zostają wyprintowane zajęcia od środy do piątku\r\n",
        "for wynik, (zajecia, dnityg) in enumerate(zip(dnityg,zajecia)):\r\n",
        "  if wynik > 1:\r\n",
        "    print(\"W {} zajecia to: {}\".format(zajecia, dnityg))\r\n",
        "\r\n",
        "#Dla przejrzystości kodu oddzielam oba zadania przy pomocy poniższej linijki:\r\n",
        "print(\"--\"*10)\r\n",
        "\r\n",
        "# ZADANIE: wyprintuj oprocz srody\r\n",
        "#Tablica z podziałem konkretnych zajęć\r\n",
        "zajecia = [\"wf\",\"informatyka\",\"relax\",\"mispy\",\"piateczek\"]\r\n",
        "#Tablica z podziałem na dni tygodnia\r\n",
        "dnityg= [\"Pon\",\"Wto\",\"Sro\",\"Czwar\",\"Pio\"]\r\n",
        "\r\n",
        "#Pętla łącząca ze sobą tablice \"zajecia\" i \"dnityg\", po przeprowadzeniu przez warunek \"if wynik != 2\" zostają wyprintowane wszystkie zajęcia oprócz środy\r\n",
        "for wynik, (zajecia, dnityg) in enumerate(zip(dnityg,zajecia)):\r\n",
        "  if wynik != 2:\r\n",
        "    print(\"W {} zajecia to: {}\".format(zajecia, dnityg))"
      ],
      "execution_count": 1,
      "outputs": [
        {
          "output_type": "stream",
          "text": [
            "W Sro zajecia to: relax\n",
            "W Czwar zajecia to: mispy\n",
            "W Pio zajecia to: piateczek\n",
            "--------------------\n",
            "W Pon zajecia to: wf\n",
            "W Wto zajecia to: informatyka\n",
            "W Czwar zajecia to: mispy\n",
            "W Pio zajecia to: piateczek\n"
          ],
          "name": "stdout"
        }
      ]
    },
    {
      "cell_type": "code",
      "metadata": {
        "colab": {
          "base_uri": "https://localhost:8080/"
        },
        "id": "fjp_yrscO70w",
        "outputId": "9b2c5ac6-9c7b-4f05-d504-c842f04f4617"
      },
      "source": [
        "#### challenge 0.2\r\n",
        "#Tablice z danymi to zadania\r\n",
        "zajecia = [[\"wf\"],\r\n",
        "           [\"informatyka\", \"nauka czytania\"],\r\n",
        "           [\"relax\", \"jedzenie\"],\r\n",
        "           [\"mispy\",\"mispy w domu\"],\r\n",
        "           [\"piateczek\", \"praca domowa z mispow\", \"Ilovemispy\", \"mispy w czasie snu\"]\r\n",
        "          ]\r\n",
        "\r\n",
        "dnityg= [\"Pon\",\"Wto\",\"Sro\",\"Czwar\",\"Pio\"]\r\n",
        "\r\n",
        "#Definiowanie funkcji do rozwiązania zadania\r\n",
        "def lista_zajec_z_dnia(dzien):\r\n",
        "  ile_zajec = 0\r\n",
        "  number = dnityg.index(dzien)\r\n",
        "  for x in zajecia[number]:\r\n",
        "    ile_zajec += 1\r\n",
        "  print(\"Liczba zajec \",  ile_zajec)\r\n",
        "#Definiowanie tablicy do dalszych rozważań \r\n",
        "tablica = [\"\"]\r\n",
        "\r\n",
        "# ZADANIE: zdefiniuj funkcje ktora poda ile jest zajec danego dnia\r\n",
        "#          lista_zajec_z_dnia -> ile ich jest\r\n",
        "\r\n",
        "#Pobieranie informacji, z którego dnia użytkownik chce uzyskać odpowiedź \r\n",
        "dzien = input(\"Podaj dzień tygodnia (Pon,Wto,Sro,Czwar,Pio): \")\r\n",
        "#Obsługa odpowiedzi użytkownika wewnątrz funkcji \r\n",
        "lista_zajec_z_dnia(dzien)\r\n",
        "\r\n",
        "# po\r\n",
        "# posortuj dni po najbardziej zajetych\r\n",
        "del tablica[:]\r\n",
        "i=0\r\n",
        "dlugosc_tab_zajecia = len(zajecia)\r\n",
        "dlugosc_tab_dnityg = len(dnityg)\r\n",
        "\r\n",
        "\r\n",
        "if dlugosc_tab_zajecia == dlugosc_tab_dnityg:\r\n",
        "  for i in range (dlugosc_tab_dnityg):\r\n",
        "    tablica.append([dnityg[i], zajecia[i], len(zajecia[i])])\r\n",
        "else:\r\n",
        "  print(\"Error \")\r\n",
        "\r\n",
        "tab_sorted = sorted(tablica, key=lambda l: l[2], reverse=True)\r\n",
        "print(\"----\")\r\n",
        "print(\"Posortowane dni od najbardziej zajętych:\")\r\n",
        "for i in range (dlugosc_tab_dnityg):\r\n",
        "  print(\"Dzień: \", tab_sorted[i][0], \" \", tab_sorted[i][1])\r\n",
        "\r\n"
      ],
      "execution_count": 8,
      "outputs": [
        {
          "output_type": "stream",
          "text": [
            "Podaj dzień tygodnia (Pon,Wto,Sro,Czwar,Pio): Pio\n",
            "Liczba zajec  4\n",
            "----\n",
            "Posortowane dni od najbardziej zajętych:\n",
            "Dzień:  Pio   ['piateczek', 'praca domowa z mispow', 'Ilovemispy', 'mispy w czasie snu']\n",
            "Dzień:  Wto   ['informatyka', 'nauka czytania']\n",
            "Dzień:  Sro   ['relax', 'jedzenie']\n",
            "Dzień:  Czwar   ['mispy', 'mispy w domu']\n",
            "Dzień:  Pon   ['wf']\n"
          ],
          "name": "stdout"
        }
      ]
    },
    {
      "cell_type": "code",
      "metadata": {
        "colab": {
          "base_uri": "https://localhost:8080/"
        },
        "id": "TieRKeHJO-7n",
        "outputId": "faade614-4f4b-4df8-c502-82ee6264e9f5"
      },
      "source": [
        "#### challenge 0.3\r\n",
        "\r\n",
        "# napisz program ktory zdajdzie dzien z najwieksza iloscia mispow\r\n",
        "\r\n",
        "#Tablice z danymi do zadania\r\n",
        "zajecia = [[\"wf\"],\r\n",
        "           [\"informatyka\", \"nauka czytania\"],\r\n",
        "           [\"relax\", \"jedzenie\"],\r\n",
        "           [\"mispy\",\"mispy w domu\"],\r\n",
        "           [\"piateczek\", \"praca domowa z mispow\", \"Ilovemispy\", \"mispy w czasie snu\"]\r\n",
        "          ]\r\n",
        "\r\n",
        "dnityg= [\"Pon\",\"Wto\",\"Sro\",\"Czwar\",\"Pio\"]\r\n",
        "\r\n",
        "#Definiowanie tablicy\r\n",
        "tab = []\r\n",
        "\r\n",
        "#Pętla szukająca najwiekszej ilosc \"misp\"\r\n",
        "for i in range(len(zajecia)):\r\n",
        "  ile_mispow = 0\r\n",
        "  for j in range(len(zajecia[i])):\r\n",
        "    text = zajecia[i][j]\r\n",
        "    szukaj = text.find(\"misp\")\r\n",
        "    if szukaj != -1:\r\n",
        "      ile_mispow += 1\r\n",
        "  tab.append(ile_mispow)\r\n",
        "\r\n",
        "ile = tab.index(max(tab))\r\n",
        "print(\"Dzien z najwieksza iloscia mispow to\", dnityg[ile])\r\n"
      ],
      "execution_count": 9,
      "outputs": [
        {
          "output_type": "stream",
          "text": [
            "Dzien z najwieksza iloscia mispow to Pio\n"
          ],
          "name": "stdout"
        }
      ]
    }
  ]
}