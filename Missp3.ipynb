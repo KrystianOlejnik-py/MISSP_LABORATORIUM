{
  "nbformat": 4,
  "nbformat_minor": 0,
  "metadata": {
    "colab": {
      "name": "Missp3.ipynb",
      "provenance": []
    },
    "kernelspec": {
      "name": "python3",
      "display_name": "Python 3"
    },
    "widgets": {
      "application/vnd.jupyter.widget-state+json": {
        "0938d9f3b5924d659fa06917e8b72e4c": {
          "model_module": "@jupyter-widgets/controls",
          "model_name": "VBoxModel",
          "state": {
            "_view_name": "VBoxView",
            "_dom_classes": [
              "widget-interact"
            ],
            "_model_name": "VBoxModel",
            "_view_module": "@jupyter-widgets/controls",
            "_model_module_version": "1.5.0",
            "_view_count": null,
            "_view_module_version": "1.5.0",
            "box_style": "",
            "layout": "IPY_MODEL_ced16c96a1c844f3b5970b5384bb1660",
            "_model_module": "@jupyter-widgets/controls",
            "children": [
              "IPY_MODEL_53fe993df6ce438aad5f4f44ea7823fb",
              "IPY_MODEL_8617d45589184d54b7f9cc4a326896c8",
              "IPY_MODEL_0fca0da2296b46bba3a813ed5e10dd50",
              "IPY_MODEL_974e5e60a09e4d3582707573afb8a6f7",
              "IPY_MODEL_a895b2334a174f55950ab581b0a80b75",
              "IPY_MODEL_3e5a1c0bdde64c8e8f7182dcb62c3110"
            ]
          }
        },
        "ced16c96a1c844f3b5970b5384bb1660": {
          "model_module": "@jupyter-widgets/base",
          "model_name": "LayoutModel",
          "state": {
            "_view_name": "LayoutView",
            "grid_template_rows": null,
            "right": null,
            "justify_content": null,
            "_view_module": "@jupyter-widgets/base",
            "overflow": null,
            "_model_module_version": "1.2.0",
            "_view_count": null,
            "flex_flow": null,
            "width": null,
            "min_width": null,
            "border": null,
            "align_items": null,
            "bottom": null,
            "_model_module": "@jupyter-widgets/base",
            "top": null,
            "grid_column": null,
            "overflow_y": null,
            "overflow_x": null,
            "grid_auto_flow": null,
            "grid_area": null,
            "grid_template_columns": null,
            "flex": null,
            "_model_name": "LayoutModel",
            "justify_items": null,
            "grid_row": null,
            "max_height": null,
            "align_content": null,
            "visibility": null,
            "align_self": null,
            "height": null,
            "min_height": null,
            "padding": null,
            "grid_auto_rows": null,
            "grid_gap": null,
            "max_width": null,
            "order": null,
            "_view_module_version": "1.2.0",
            "grid_template_areas": null,
            "object_position": null,
            "object_fit": null,
            "grid_auto_columns": null,
            "margin": null,
            "display": null,
            "left": null
          }
        },
        "53fe993df6ce438aad5f4f44ea7823fb": {
          "model_module": "@jupyter-widgets/controls",
          "model_name": "FloatSliderModel",
          "state": {
            "_view_name": "FloatSliderView",
            "style": "IPY_MODEL_1750755571f348589cdc9aa9a35dda44",
            "_dom_classes": [],
            "description": "sardynki_cena_slider",
            "step": 0.1,
            "_model_name": "FloatSliderModel",
            "orientation": "horizontal",
            "max": 1,
            "_view_module": "@jupyter-widgets/controls",
            "_model_module_version": "1.5.0",
            "value": 0.014,
            "_view_count": null,
            "disabled": false,
            "_view_module_version": "1.5.0",
            "min": 0,
            "continuous_update": true,
            "readout_format": ".2f",
            "description_tooltip": null,
            "readout": true,
            "_model_module": "@jupyter-widgets/controls",
            "layout": "IPY_MODEL_de1d5d725f0f44a28bccf1b67242967f"
          }
        },
        "8617d45589184d54b7f9cc4a326896c8": {
          "model_module": "@jupyter-widgets/controls",
          "model_name": "FloatSliderModel",
          "state": {
            "_view_name": "FloatSliderView",
            "style": "IPY_MODEL_7786f82c4023485686172f229681f0ee",
            "_dom_classes": [],
            "description": "sardynki_bialko_slider",
            "step": 0.1,
            "_model_name": "FloatSliderModel",
            "orientation": "horizontal",
            "max": 1,
            "_view_module": "@jupyter-widgets/controls",
            "_model_module_version": "1.5.0",
            "value": 0.5,
            "_view_count": null,
            "disabled": false,
            "_view_module_version": "1.5.0",
            "min": 0,
            "continuous_update": true,
            "readout_format": ".2f",
            "description_tooltip": null,
            "readout": true,
            "_model_module": "@jupyter-widgets/controls",
            "layout": "IPY_MODEL_d80767f4acf54d7a9164a8a875e40fe2"
          }
        },
        "0fca0da2296b46bba3a813ed5e10dd50": {
          "model_module": "@jupyter-widgets/controls",
          "model_name": "FloatSliderModel",
          "state": {
            "_view_name": "FloatSliderView",
            "style": "IPY_MODEL_05a53adda6b74e4797de155d1ee1b017",
            "_dom_classes": [],
            "description": "sardynki_tluszcz_slider",
            "step": 0.1,
            "_model_name": "FloatSliderModel",
            "orientation": "horizontal",
            "max": 1,
            "_view_module": "@jupyter-widgets/controls",
            "_model_module_version": "1.5.0",
            "value": 0.4,
            "_view_count": null,
            "disabled": false,
            "_view_module_version": "1.5.0",
            "min": 0,
            "continuous_update": true,
            "readout_format": ".2f",
            "description_tooltip": null,
            "readout": true,
            "_model_module": "@jupyter-widgets/controls",
            "layout": "IPY_MODEL_41da1fb200fd408680d9bb7a44d3134e"
          }
        },
        "974e5e60a09e4d3582707573afb8a6f7": {
          "model_module": "@jupyter-widgets/controls",
          "model_name": "FloatSliderModel",
          "state": {
            "_view_name": "FloatSliderView",
            "style": "IPY_MODEL_8f8440bc7a04417ba1f09df9600e817a",
            "_dom_classes": [],
            "description": "sardynki_weglowodany_slider",
            "step": 0.1,
            "_model_name": "FloatSliderModel",
            "orientation": "horizontal",
            "max": 1,
            "_view_module": "@jupyter-widgets/controls",
            "_model_module_version": "1.5.0",
            "value": 0.001,
            "_view_count": null,
            "disabled": false,
            "_view_module_version": "1.5.0",
            "min": 0,
            "continuous_update": true,
            "readout_format": ".2f",
            "description_tooltip": null,
            "readout": true,
            "_model_module": "@jupyter-widgets/controls",
            "layout": "IPY_MODEL_81978e73f6b64faaa35f1c9d0edc8cf5"
          }
        },
        "a895b2334a174f55950ab581b0a80b75": {
          "model_module": "@jupyter-widgets/controls",
          "model_name": "FloatSliderModel",
          "state": {
            "_view_name": "FloatSliderView",
            "style": "IPY_MODEL_8c42c49ddb584c208a05c86a862c0e6f",
            "_dom_classes": [],
            "description": "sardynki_sol_slider",
            "step": 0.1,
            "_model_name": "FloatSliderModel",
            "orientation": "horizontal",
            "max": 1,
            "_view_module": "@jupyter-widgets/controls",
            "_model_module_version": "1.5.0",
            "value": 0.003,
            "_view_count": null,
            "disabled": false,
            "_view_module_version": "1.5.0",
            "min": 0,
            "continuous_update": true,
            "readout_format": ".2f",
            "description_tooltip": null,
            "readout": true,
            "_model_module": "@jupyter-widgets/controls",
            "layout": "IPY_MODEL_3fa0319e3ec24502837dbb753459b98b"
          }
        },
        "3e5a1c0bdde64c8e8f7182dcb62c3110": {
          "model_module": "@jupyter-widgets/output",
          "model_name": "OutputModel",
          "state": {
            "_view_name": "OutputView",
            "msg_id": "",
            "_dom_classes": [],
            "_model_name": "OutputModel",
            "outputs": [
              {
                "output_type": "stream",
                "metadata": {
                  "tags": []
                },
                "text": "Końcowy produkt będzie kosztować  0.308\nbędzie miał  Skladniki_BARANINA  :  0.0 %\nbędzie miał  Skladniki_KURCZAK  :  0.0 %\nbędzie miał  Skladniki_PRZENICA  :  0.0 %\nbędzie miał  Skladniki_RYŻ  :  0.0 %\nbędzie miał  Skladniki_SARDYNKI  :  16.0 %\nbędzie miał  Skladniki_WOŁOWINA  :  0.0 %\nbędzie miał  Skladniki_ŻEL  :  84.0 %\n",
                "stream": "stdout"
              }
            ],
            "_view_module": "@jupyter-widgets/output",
            "_model_module_version": "1.0.0",
            "_view_count": null,
            "_view_module_version": "1.0.0",
            "layout": "IPY_MODEL_30bc839bf3084bc085cab3f32d607d78",
            "_model_module": "@jupyter-widgets/output"
          }
        },
        "1750755571f348589cdc9aa9a35dda44": {
          "model_module": "@jupyter-widgets/controls",
          "model_name": "SliderStyleModel",
          "state": {
            "_view_name": "StyleView",
            "handle_color": null,
            "_model_name": "SliderStyleModel",
            "description_width": "initial",
            "_view_module": "@jupyter-widgets/base",
            "_model_module_version": "1.5.0",
            "_view_count": null,
            "_view_module_version": "1.2.0",
            "_model_module": "@jupyter-widgets/controls"
          }
        },
        "de1d5d725f0f44a28bccf1b67242967f": {
          "model_module": "@jupyter-widgets/base",
          "model_name": "LayoutModel",
          "state": {
            "_view_name": "LayoutView",
            "grid_template_rows": null,
            "right": null,
            "justify_content": null,
            "_view_module": "@jupyter-widgets/base",
            "overflow": null,
            "_model_module_version": "1.2.0",
            "_view_count": null,
            "flex_flow": null,
            "width": null,
            "min_width": null,
            "border": null,
            "align_items": null,
            "bottom": null,
            "_model_module": "@jupyter-widgets/base",
            "top": null,
            "grid_column": null,
            "overflow_y": null,
            "overflow_x": null,
            "grid_auto_flow": null,
            "grid_area": null,
            "grid_template_columns": null,
            "flex": null,
            "_model_name": "LayoutModel",
            "justify_items": null,
            "grid_row": null,
            "max_height": null,
            "align_content": null,
            "visibility": null,
            "align_self": null,
            "height": null,
            "min_height": null,
            "padding": null,
            "grid_auto_rows": null,
            "grid_gap": null,
            "max_width": null,
            "order": null,
            "_view_module_version": "1.2.0",
            "grid_template_areas": null,
            "object_position": null,
            "object_fit": null,
            "grid_auto_columns": null,
            "margin": null,
            "display": null,
            "left": null
          }
        },
        "7786f82c4023485686172f229681f0ee": {
          "model_module": "@jupyter-widgets/controls",
          "model_name": "SliderStyleModel",
          "state": {
            "_view_name": "StyleView",
            "handle_color": null,
            "_model_name": "SliderStyleModel",
            "description_width": "initial",
            "_view_module": "@jupyter-widgets/base",
            "_model_module_version": "1.5.0",
            "_view_count": null,
            "_view_module_version": "1.2.0",
            "_model_module": "@jupyter-widgets/controls"
          }
        },
        "d80767f4acf54d7a9164a8a875e40fe2": {
          "model_module": "@jupyter-widgets/base",
          "model_name": "LayoutModel",
          "state": {
            "_view_name": "LayoutView",
            "grid_template_rows": null,
            "right": null,
            "justify_content": null,
            "_view_module": "@jupyter-widgets/base",
            "overflow": null,
            "_model_module_version": "1.2.0",
            "_view_count": null,
            "flex_flow": null,
            "width": null,
            "min_width": null,
            "border": null,
            "align_items": null,
            "bottom": null,
            "_model_module": "@jupyter-widgets/base",
            "top": null,
            "grid_column": null,
            "overflow_y": null,
            "overflow_x": null,
            "grid_auto_flow": null,
            "grid_area": null,
            "grid_template_columns": null,
            "flex": null,
            "_model_name": "LayoutModel",
            "justify_items": null,
            "grid_row": null,
            "max_height": null,
            "align_content": null,
            "visibility": null,
            "align_self": null,
            "height": null,
            "min_height": null,
            "padding": null,
            "grid_auto_rows": null,
            "grid_gap": null,
            "max_width": null,
            "order": null,
            "_view_module_version": "1.2.0",
            "grid_template_areas": null,
            "object_position": null,
            "object_fit": null,
            "grid_auto_columns": null,
            "margin": null,
            "display": null,
            "left": null
          }
        },
        "05a53adda6b74e4797de155d1ee1b017": {
          "model_module": "@jupyter-widgets/controls",
          "model_name": "SliderStyleModel",
          "state": {
            "_view_name": "StyleView",
            "handle_color": null,
            "_model_name": "SliderStyleModel",
            "description_width": "initial",
            "_view_module": "@jupyter-widgets/base",
            "_model_module_version": "1.5.0",
            "_view_count": null,
            "_view_module_version": "1.2.0",
            "_model_module": "@jupyter-widgets/controls"
          }
        },
        "41da1fb200fd408680d9bb7a44d3134e": {
          "model_module": "@jupyter-widgets/base",
          "model_name": "LayoutModel",
          "state": {
            "_view_name": "LayoutView",
            "grid_template_rows": null,
            "right": null,
            "justify_content": null,
            "_view_module": "@jupyter-widgets/base",
            "overflow": null,
            "_model_module_version": "1.2.0",
            "_view_count": null,
            "flex_flow": null,
            "width": null,
            "min_width": null,
            "border": null,
            "align_items": null,
            "bottom": null,
            "_model_module": "@jupyter-widgets/base",
            "top": null,
            "grid_column": null,
            "overflow_y": null,
            "overflow_x": null,
            "grid_auto_flow": null,
            "grid_area": null,
            "grid_template_columns": null,
            "flex": null,
            "_model_name": "LayoutModel",
            "justify_items": null,
            "grid_row": null,
            "max_height": null,
            "align_content": null,
            "visibility": null,
            "align_self": null,
            "height": null,
            "min_height": null,
            "padding": null,
            "grid_auto_rows": null,
            "grid_gap": null,
            "max_width": null,
            "order": null,
            "_view_module_version": "1.2.0",
            "grid_template_areas": null,
            "object_position": null,
            "object_fit": null,
            "grid_auto_columns": null,
            "margin": null,
            "display": null,
            "left": null
          }
        },
        "8f8440bc7a04417ba1f09df9600e817a": {
          "model_module": "@jupyter-widgets/controls",
          "model_name": "SliderStyleModel",
          "state": {
            "_view_name": "StyleView",
            "handle_color": null,
            "_model_name": "SliderStyleModel",
            "description_width": "initial",
            "_view_module": "@jupyter-widgets/base",
            "_model_module_version": "1.5.0",
            "_view_count": null,
            "_view_module_version": "1.2.0",
            "_model_module": "@jupyter-widgets/controls"
          }
        },
        "81978e73f6b64faaa35f1c9d0edc8cf5": {
          "model_module": "@jupyter-widgets/base",
          "model_name": "LayoutModel",
          "state": {
            "_view_name": "LayoutView",
            "grid_template_rows": null,
            "right": null,
            "justify_content": null,
            "_view_module": "@jupyter-widgets/base",
            "overflow": null,
            "_model_module_version": "1.2.0",
            "_view_count": null,
            "flex_flow": null,
            "width": null,
            "min_width": null,
            "border": null,
            "align_items": null,
            "bottom": null,
            "_model_module": "@jupyter-widgets/base",
            "top": null,
            "grid_column": null,
            "overflow_y": null,
            "overflow_x": null,
            "grid_auto_flow": null,
            "grid_area": null,
            "grid_template_columns": null,
            "flex": null,
            "_model_name": "LayoutModel",
            "justify_items": null,
            "grid_row": null,
            "max_height": null,
            "align_content": null,
            "visibility": null,
            "align_self": null,
            "height": null,
            "min_height": null,
            "padding": null,
            "grid_auto_rows": null,
            "grid_gap": null,
            "max_width": null,
            "order": null,
            "_view_module_version": "1.2.0",
            "grid_template_areas": null,
            "object_position": null,
            "object_fit": null,
            "grid_auto_columns": null,
            "margin": null,
            "display": null,
            "left": null
          }
        },
        "8c42c49ddb584c208a05c86a862c0e6f": {
          "model_module": "@jupyter-widgets/controls",
          "model_name": "SliderStyleModel",
          "state": {
            "_view_name": "StyleView",
            "handle_color": null,
            "_model_name": "SliderStyleModel",
            "description_width": "initial",
            "_view_module": "@jupyter-widgets/base",
            "_model_module_version": "1.5.0",
            "_view_count": null,
            "_view_module_version": "1.2.0",
            "_model_module": "@jupyter-widgets/controls"
          }
        },
        "3fa0319e3ec24502837dbb753459b98b": {
          "model_module": "@jupyter-widgets/base",
          "model_name": "LayoutModel",
          "state": {
            "_view_name": "LayoutView",
            "grid_template_rows": null,
            "right": null,
            "justify_content": null,
            "_view_module": "@jupyter-widgets/base",
            "overflow": null,
            "_model_module_version": "1.2.0",
            "_view_count": null,
            "flex_flow": null,
            "width": null,
            "min_width": null,
            "border": null,
            "align_items": null,
            "bottom": null,
            "_model_module": "@jupyter-widgets/base",
            "top": null,
            "grid_column": null,
            "overflow_y": null,
            "overflow_x": null,
            "grid_auto_flow": null,
            "grid_area": null,
            "grid_template_columns": null,
            "flex": null,
            "_model_name": "LayoutModel",
            "justify_items": null,
            "grid_row": null,
            "max_height": null,
            "align_content": null,
            "visibility": null,
            "align_self": null,
            "height": null,
            "min_height": null,
            "padding": null,
            "grid_auto_rows": null,
            "grid_gap": null,
            "max_width": null,
            "order": null,
            "_view_module_version": "1.2.0",
            "grid_template_areas": null,
            "object_position": null,
            "object_fit": null,
            "grid_auto_columns": null,
            "margin": null,
            "display": null,
            "left": null
          }
        },
        "30bc839bf3084bc085cab3f32d607d78": {
          "model_module": "@jupyter-widgets/base",
          "model_name": "LayoutModel",
          "state": {
            "_view_name": "LayoutView",
            "grid_template_rows": null,
            "right": null,
            "justify_content": null,
            "_view_module": "@jupyter-widgets/base",
            "overflow": null,
            "_model_module_version": "1.2.0",
            "_view_count": null,
            "flex_flow": null,
            "width": null,
            "min_width": null,
            "border": null,
            "align_items": null,
            "bottom": null,
            "_model_module": "@jupyter-widgets/base",
            "top": null,
            "grid_column": null,
            "overflow_y": null,
            "overflow_x": null,
            "grid_auto_flow": null,
            "grid_area": null,
            "grid_template_columns": null,
            "flex": null,
            "_model_name": "LayoutModel",
            "justify_items": null,
            "grid_row": null,
            "max_height": null,
            "align_content": null,
            "visibility": null,
            "align_self": null,
            "height": null,
            "min_height": null,
            "padding": null,
            "grid_auto_rows": null,
            "grid_gap": null,
            "max_width": null,
            "order": null,
            "_view_module_version": "1.2.0",
            "grid_template_areas": null,
            "object_position": null,
            "object_fit": null,
            "grid_auto_columns": null,
            "margin": null,
            "display": null,
            "left": null
          }
        }
      }
    }
  },
  "cells": [
    {
      "cell_type": "code",
      "metadata": {
        "colab": {
          "base_uri": "https://localhost:8080/"
        },
        "id": "7QWG5KlpV226",
        "outputId": "3565cb76-26e3-4622-b607-31c5c8e9f33c"
      },
      "source": [
        "#Instalacja biblioteki PuLP\r\n",
        "!pip install pulp"
      ],
      "execution_count": 5,
      "outputs": [
        {
          "output_type": "stream",
          "text": [
            "Requirement already satisfied: pulp in /usr/local/lib/python3.6/dist-packages (2.4)\n",
            "Requirement already satisfied: amply>=0.1.2 in /usr/local/lib/python3.6/dist-packages (from pulp) (0.1.4)\n",
            "Requirement already satisfied: pyparsing in /usr/local/lib/python3.6/dist-packages (from amply>=0.1.2->pulp) (2.4.7)\n",
            "Requirement already satisfied: docutils>=0.3 in /usr/local/lib/python3.6/dist-packages (from amply>=0.1.2->pulp) (0.16)\n"
          ],
          "name": "stdout"
        }
      ]
    },
    {
      "cell_type": "code",
      "metadata": {
        "colab": {
          "base_uri": "https://localhost:8080/"
        },
        "id": "y-5mI8FiV7Ox",
        "outputId": "46190d37-96d2-4b6b-9b0b-6c06c5552aba"
      },
      "source": [
        "#Załączamy zainstalowaną bibliotekę i sprawdzamy wersje\r\n",
        "import pulp\r\n",
        "\r\n",
        "print(pulp.__version__)"
      ],
      "execution_count": 6,
      "outputs": [
        {
          "output_type": "stream",
          "text": [
            "2.4\n"
          ],
          "name": "stdout"
        }
      ]
    },
    {
      "cell_type": "code",
      "metadata": {
        "colab": {
          "base_uri": "https://localhost:8080/"
        },
        "id": "H022rIDPV-1w",
        "outputId": "a8a26986-ed9a-4caf-a1c8-afad1a485cec"
      },
      "source": [
        "#Instalacja pozostałych narzędzi niezbędnych do przeprowadzenia zadań\r\n",
        "!sudo apt-get install coinor-cbc glpk-utils coinor-clp\r\n"
      ],
      "execution_count": 3,
      "outputs": [
        {
          "output_type": "stream",
          "text": [
            "Reading package lists... Done\n",
            "Building dependency tree       \n",
            "Reading state information... Done\n",
            "The following additional packages will be installed:\n",
            "  coinor-libcbc3 coinor-libcgl1 coinor-libclp1 coinor-libcoinutils3v5\n",
            "  coinor-libosi1v5 libamd2 libcolamd2 libglpk40 libsuitesparseconfig5\n",
            "Suggested packages:\n",
            "  libiodbc2-dev default-libmysqlclient-dev\n",
            "The following NEW packages will be installed:\n",
            "  coinor-cbc coinor-clp coinor-libcbc3 coinor-libcgl1 coinor-libclp1\n",
            "  coinor-libcoinutils3v5 coinor-libosi1v5 glpk-utils libamd2 libcolamd2\n",
            "  libglpk40 libsuitesparseconfig5\n",
            "0 upgraded, 12 newly installed, 0 to remove and 12 not upgraded.\n",
            "Need to get 3,439 kB of archives.\n",
            "After this operation, 9,832 kB of additional disk space will be used.\n",
            "Get:1 http://archive.ubuntu.com/ubuntu bionic/main amd64 libsuitesparseconfig5 amd64 1:5.1.2-2 [9,044 B]\n",
            "Get:2 http://archive.ubuntu.com/ubuntu bionic/main amd64 libamd2 amd64 1:5.1.2-2 [19.5 kB]\n",
            "Get:3 http://archive.ubuntu.com/ubuntu bionic/main amd64 libcolamd2 amd64 1:5.1.2-2 [16.2 kB]\n",
            "Get:4 http://archive.ubuntu.com/ubuntu bionic/universe amd64 libglpk40 amd64 4.65-1 [378 kB]\n",
            "Get:5 http://archive.ubuntu.com/ubuntu bionic/universe amd64 glpk-utils amd64 4.65-1 [269 kB]\n",
            "Get:6 http://archive.ubuntu.com/ubuntu bionic/universe amd64 coinor-libcoinutils3v5 amd64 2.10.14+repack1-1 [472 kB]\n",
            "Get:7 http://archive.ubuntu.com/ubuntu bionic/universe amd64 coinor-libosi1v5 amd64 0.107.9+repack1-1 [270 kB]\n",
            "Get:8 http://archive.ubuntu.com/ubuntu bionic/universe amd64 coinor-libclp1 amd64 1.16.11+repack1-1 [863 kB]\n",
            "Get:9 http://archive.ubuntu.com/ubuntu bionic/universe amd64 coinor-libcgl1 amd64 0.59.10+repack1-1 [433 kB]\n",
            "Get:10 http://archive.ubuntu.com/ubuntu bionic/universe amd64 coinor-libcbc3 amd64 2.9.9+repack1-1 [687 kB]\n",
            "Get:11 http://archive.ubuntu.com/ubuntu bionic/universe amd64 coinor-cbc amd64 2.9.9+repack1-1 [11.2 kB]\n",
            "Get:12 http://archive.ubuntu.com/ubuntu bionic/universe amd64 coinor-clp amd64 1.16.11+repack1-1 [9,646 B]\n",
            "Fetched 3,439 kB in 1s (2,754 kB/s)\n",
            "debconf: unable to initialize frontend: Dialog\n",
            "debconf: (No usable dialog-like program is installed, so the dialog based frontend cannot be used. at /usr/share/perl5/Debconf/FrontEnd/Dialog.pm line 76, <> line 12.)\n",
            "debconf: falling back to frontend: Readline\n",
            "debconf: unable to initialize frontend: Readline\n",
            "debconf: (This frontend requires a controlling tty.)\n",
            "debconf: falling back to frontend: Teletype\n",
            "dpkg-preconfigure: unable to re-open stdin: \n",
            "Selecting previously unselected package libsuitesparseconfig5:amd64.\n",
            "(Reading database ... 146364 files and directories currently installed.)\n",
            "Preparing to unpack .../00-libsuitesparseconfig5_1%3a5.1.2-2_amd64.deb ...\n",
            "Unpacking libsuitesparseconfig5:amd64 (1:5.1.2-2) ...\n",
            "Selecting previously unselected package libamd2:amd64.\n",
            "Preparing to unpack .../01-libamd2_1%3a5.1.2-2_amd64.deb ...\n",
            "Unpacking libamd2:amd64 (1:5.1.2-2) ...\n",
            "Selecting previously unselected package libcolamd2:amd64.\n",
            "Preparing to unpack .../02-libcolamd2_1%3a5.1.2-2_amd64.deb ...\n",
            "Unpacking libcolamd2:amd64 (1:5.1.2-2) ...\n",
            "Selecting previously unselected package libglpk40:amd64.\n",
            "Preparing to unpack .../03-libglpk40_4.65-1_amd64.deb ...\n",
            "Unpacking libglpk40:amd64 (4.65-1) ...\n",
            "Selecting previously unselected package glpk-utils.\n",
            "Preparing to unpack .../04-glpk-utils_4.65-1_amd64.deb ...\n",
            "Unpacking glpk-utils (4.65-1) ...\n",
            "Selecting previously unselected package coinor-libcoinutils3v5.\n",
            "Preparing to unpack .../05-coinor-libcoinutils3v5_2.10.14+repack1-1_amd64.deb ...\n",
            "Unpacking coinor-libcoinutils3v5 (2.10.14+repack1-1) ...\n",
            "Selecting previously unselected package coinor-libosi1v5.\n",
            "Preparing to unpack .../06-coinor-libosi1v5_0.107.9+repack1-1_amd64.deb ...\n",
            "Unpacking coinor-libosi1v5 (0.107.9+repack1-1) ...\n",
            "Selecting previously unselected package coinor-libclp1.\n",
            "Preparing to unpack .../07-coinor-libclp1_1.16.11+repack1-1_amd64.deb ...\n",
            "Unpacking coinor-libclp1 (1.16.11+repack1-1) ...\n",
            "Selecting previously unselected package coinor-libcgl1.\n",
            "Preparing to unpack .../08-coinor-libcgl1_0.59.10+repack1-1_amd64.deb ...\n",
            "Unpacking coinor-libcgl1 (0.59.10+repack1-1) ...\n",
            "Selecting previously unselected package coinor-libcbc3.\n",
            "Preparing to unpack .../09-coinor-libcbc3_2.9.9+repack1-1_amd64.deb ...\n",
            "Unpacking coinor-libcbc3 (2.9.9+repack1-1) ...\n",
            "Selecting previously unselected package coinor-cbc.\n",
            "Preparing to unpack .../10-coinor-cbc_2.9.9+repack1-1_amd64.deb ...\n",
            "Unpacking coinor-cbc (2.9.9+repack1-1) ...\n",
            "Selecting previously unselected package coinor-clp.\n",
            "Preparing to unpack .../11-coinor-clp_1.16.11+repack1-1_amd64.deb ...\n",
            "Unpacking coinor-clp (1.16.11+repack1-1) ...\n",
            "Setting up libsuitesparseconfig5:amd64 (1:5.1.2-2) ...\n",
            "Setting up libcolamd2:amd64 (1:5.1.2-2) ...\n",
            "Setting up coinor-libcoinutils3v5 (2.10.14+repack1-1) ...\n",
            "Setting up coinor-libosi1v5 (0.107.9+repack1-1) ...\n",
            "Setting up coinor-libclp1 (1.16.11+repack1-1) ...\n",
            "Setting up libamd2:amd64 (1:5.1.2-2) ...\n",
            "Setting up coinor-libcgl1 (0.59.10+repack1-1) ...\n",
            "Setting up libglpk40:amd64 (4.65-1) ...\n",
            "Setting up coinor-clp (1.16.11+repack1-1) ...\n",
            "Setting up coinor-libcbc3 (2.9.9+repack1-1) ...\n",
            "Setting up glpk-utils (4.65-1) ...\n",
            "Setting up coinor-cbc (2.9.9+repack1-1) ...\n",
            "Processing triggers for man-db (2.8.3-2ubuntu0.1) ...\n",
            "Processing triggers for libc-bin (2.27-3ubuntu1.3) ...\n",
            "/sbin/ldconfig.real: /usr/local/lib/python3.6/dist-packages/ideep4py/lib/libmkldnn.so.0 is not a symbolic link\n",
            "\n"
          ],
          "name": "stdout"
        }
      ]
    },
    {
      "cell_type": "code",
      "metadata": {
        "colab": {
          "base_uri": "https://localhost:8080/"
        },
        "id": "1IwC_1NpWAiA",
        "outputId": "07c44a89-d772-48a6-bfa1-2b208edbb8e5"
      },
      "source": [
        "#Sprawdzamy dostępność poszczególnych narzędzi biblioteki PuLP. \r\n",
        "pulp.pulpTestAll()"
      ],
      "execution_count": 4,
      "outputs": [
        {
          "output_type": "stream",
          "text": [
            ".................."
          ],
          "name": "stderr"
        },
        {
          "output_type": "stream",
          "text": [
            "Solver <class 'pulp.apis.coin_api.PULP_CBC_CMD'> available\n",
            "Solver <class 'pulp.apis.cplex_api.CPLEX_DLL'> unavailable\n",
            "Solver <class 'pulp.apis.cplex_api.CPLEX_CMD'> unavailable\n",
            "Solver <class 'pulp.apis.cplex_api.CPLEX_PY'> unavailable\n",
            "Solver <class 'pulp.apis.coin_api.COIN_CMD'> available\n",
            "Solver <class 'pulp.apis.coin_api.COINMP_DLL'> unavailable\n",
            "Solver <class 'pulp.apis.glpk_api.GLPK_CMD'> available\n",
            "Solver <class 'pulp.apis.xpress_api.XPRESS'> unavailable\n",
            "Solver <class 'pulp.apis.gurobi_api.GUROBI'> unavailable\n",
            "Solver <class 'pulp.apis.gurobi_api.GUROBI_CMD'> unavailable\n",
            "Solver <class 'pulp.apis.glpk_api.PYGLPK'> unavailable\n",
            "Solver <class 'pulp.apis.coin_api.YAPOSIB'> unavailable\n",
            "Solver <class 'pulp.apis.choco_api.PULP_CHOCO_CMD'> available\n",
            "Solver <class 'pulp.apis.choco_api.CHOCO_CMD'> unavailable\n",
            "Solver <class 'pulp.apis.mipcl_api.MIPCL_CMD'> unavailable\n",
            "Solver <class 'pulp.apis.mosek_api.MOSEK'> unavailable\n",
            "Solver <class 'pulp.apis.scip_api.SCIP_CMD'> unavailable\n",
            "\t Testing invalid status\n",
            "\t Testing continuous LP solution - export dict\n",
            "\t Testing export dict for LP\n",
            "\t Testing MIP solution\n",
            "\t Testing maximize continuous LP solution\n",
            "\t Testing continuous LP solution - export JSON\n",
            "\t Testing continuous LP solution - export solver dict\n",
            "\t Testing continuous LP solution - export solver JSON\n",
            "\t Testing reading MPS files - binary variable, no constraint names\n",
            "\t Testing reading MPS files - integer variable\n",
            "\t Testing reading MPS files - maximize\n",
            "\t Testing logPath argument\n",
            "\t Testing makeDict general behavior\n",
            "\t Testing makeDict default value behavior\n",
            "\t Testing the availability of the function pulpTestAll\n",
            "\t Testing zero subtraction\n",
            "\t Testing inconsistent lp solution\n",
            "\t Testing continuous LP solution\n",
            "\t Testing maximize continuous LP solution\n"
          ],
          "name": "stdout"
        },
        {
          "output_type": "stream",
          "text": [
            ".............."
          ],
          "name": "stderr"
        },
        {
          "output_type": "stream",
          "text": [
            "\t Testing unbounded continuous LP solution\n",
            "\t Testing Long Names\n",
            "\t Testing repeated Names\n",
            "\t Testing zero constraint\n",
            "\t Testing zero objective\n",
            "\t Testing LpVariable (not LpAffineExpression) objective\n",
            "\t Testing Long lines in LP\n",
            "\t Testing LpAffineExpression divide\n",
            "\t Testing MIP solution\n",
            "\t Testing MIP solution with floats in objective\n",
            "\t Testing MIP solution\n",
            "\t Testing MIP solution\n",
            "\t Testing MIP relaxation\n",
            "\t Testing feasibility problem (no objective)\n"
          ],
          "name": "stdout"
        },
        {
          "output_type": "stream",
          "text": [
            "................"
          ],
          "name": "stderr"
        },
        {
          "output_type": "stream",
          "text": [
            "\t Testing an infeasible problem\n",
            "\t Testing an integer infeasible problem\n",
            "\t Testing another integer infeasible problem\n",
            "\t Testing column based modelling\n",
            "\t Testing dual variables and slacks reporting\n",
            "\t Testing fractional constraints\n",
            "\t Testing elastic constraints (no change)\n",
            "\t Testing elastic constraints (freebound)\n",
            "\t Testing elastic constraints (penalty unchanged)\n",
            "\t Testing elastic constraints (penalty unbounded)\n",
            "\t Testing timeLimit argument\n",
            "\t Testing invalid status\n",
            "\t Testing continuous LP solution - export dict\n"
          ],
          "name": "stdout"
        },
        {
          "output_type": "stream",
          "text": [
            "................."
          ],
          "name": "stderr"
        },
        {
          "output_type": "stream",
          "text": [
            "\t Testing export dict for LP\n",
            "\t Testing MIP solution\n",
            "\t Testing maximize continuous LP solution\n",
            "\t Testing continuous LP solution - export JSON\n",
            "\t Testing continuous LP solution - export solver dict\n",
            "\t Testing continuous LP solution - export solver JSON\n",
            "\t Testing reading MPS files - binary variable, no constraint names\n",
            "\t Testing reading MPS files - integer variable\n",
            "\t Testing reading MPS files - maximize\n",
            "\t Testing logPath argument\n",
            "\t Testing makeDict general behavior\n",
            "\t Testing makeDict default value behavior\n",
            "\t Testing the availability of the function pulpTestAll\n",
            "\t Testing zero subtraction\n",
            "\t Testing inconsistent lp solution\n",
            "\t Testing continuous LP solution\n",
            "\t Testing maximize continuous LP solution\n"
          ],
          "name": "stdout"
        },
        {
          "output_type": "stream",
          "text": [
            "..........."
          ],
          "name": "stderr"
        },
        {
          "output_type": "stream",
          "text": [
            "\t Testing unbounded continuous LP solution\n",
            "\t Testing Long Names\n",
            "\t Testing repeated Names\n",
            "\t Testing zero constraint\n",
            "\t Testing zero objective\n",
            "\t Testing LpVariable (not LpAffineExpression) objective\n",
            "\t Testing Long lines in LP\n",
            "\t Testing LpAffineExpression divide\n",
            "\t Testing MIP solution\n",
            "\t Testing MIP solution with floats in objective\n",
            "\t Testing MIP solution\n"
          ],
          "name": "stdout"
        },
        {
          "output_type": "stream",
          "text": [
            ".............."
          ],
          "name": "stderr"
        },
        {
          "output_type": "stream",
          "text": [
            "\t Testing MIP solution\n",
            "\t Testing MIP relaxation\n",
            "\t Testing feasibility problem (no objective)\n",
            "\t Testing an infeasible problem\n",
            "\t Testing an integer infeasible problem\n",
            "\t Testing another integer infeasible problem\n",
            "\t Testing column based modelling\n",
            "\t Testing fractional constraints\n",
            "\t Testing elastic constraints (no change)\n",
            "\t Testing elastic constraints (freebound)\n"
          ],
          "name": "stdout"
        },
        {
          "output_type": "stream",
          "text": [
            "....................."
          ],
          "name": "stderr"
        },
        {
          "output_type": "stream",
          "text": [
            "\t Testing elastic constraints (penalty unchanged)\n",
            "\t Testing elastic constraints (penalty unbounded)\n",
            "\t Testing timeLimit argument\n",
            "\t Testing invalid status\n",
            "\t Testing continuous LP solution - export dict\n",
            "\t Testing export dict for LP\n",
            "\t Testing MIP solution\n",
            "\t Testing maximize continuous LP solution\n",
            "\t Testing continuous LP solution - export JSON\n",
            "\t Testing continuous LP solution - export solver dict\n",
            "\t Testing continuous LP solution - export solver JSON\n",
            "\t Testing reading MPS files - binary variable, no constraint names\n",
            "\t Testing reading MPS files - integer variable\n",
            "\t Testing reading MPS files - maximize\n",
            "\t Testing makeDict general behavior\n",
            "\t Testing makeDict default value behavior\n",
            "\t Testing the availability of the function pulpTestAll\n",
            "\t Testing zero subtraction\n",
            "\t Testing inconsistent lp solution\n",
            "\t Testing continuous LP solution\n"
          ],
          "name": "stdout"
        },
        {
          "output_type": "stream",
          "text": [
            "................."
          ],
          "name": "stderr"
        },
        {
          "output_type": "stream",
          "text": [
            "\t Testing maximize continuous LP solution\n",
            "\t Testing unbounded continuous LP solution\n",
            "\t Testing Long Names\n",
            "\t Testing repeated Names\n",
            "\t Testing zero constraint\n",
            "\t Testing zero objective\n",
            "\t Testing LpVariable (not LpAffineExpression) objective\n",
            "\t Testing LpAffineExpression divide\n",
            "\t Testing MIP solution\n",
            "\t Testing MIP solution with floats in objective\n",
            "\t Testing MIP solution\n",
            "\t Testing MIP solution\n",
            "\t Testing MIP relaxation\n",
            "\t Testing feasibility problem (no objective)\n",
            "\t Testing an infeasible problem\n",
            "\t Testing an integer infeasible problem\n"
          ],
          "name": "stdout"
        },
        {
          "output_type": "stream",
          "text": [
            ".............."
          ],
          "name": "stderr"
        },
        {
          "output_type": "stream",
          "text": [
            "\t Testing another integer infeasible problem\n",
            "\t Testing column based modelling\n",
            "\t Testing fractional constraints\n",
            "\t Testing elastic constraints (no change)\n",
            "\t Testing elastic constraints (freebound)\n",
            "\t Testing elastic constraints (penalty unchanged)\n",
            "\t Testing elastic constraints (penalty unbounded)\n",
            "\t Testing timeLimit argument\n",
            "\t Testing invalid status\n",
            "\t Testing continuous LP solution - export dict\n"
          ],
          "name": "stdout"
        },
        {
          "output_type": "stream",
          "text": [
            "."
          ],
          "name": "stderr"
        },
        {
          "output_type": "stream",
          "text": [
            "\t Testing export dict for LP\n"
          ],
          "name": "stdout"
        },
        {
          "output_type": "stream",
          "text": [
            "."
          ],
          "name": "stderr"
        },
        {
          "output_type": "stream",
          "text": [
            "\t Testing MIP solution\n"
          ],
          "name": "stdout"
        },
        {
          "output_type": "stream",
          "text": [
            "."
          ],
          "name": "stderr"
        },
        {
          "output_type": "stream",
          "text": [
            "\t Testing maximize continuous LP solution\n"
          ],
          "name": "stdout"
        },
        {
          "output_type": "stream",
          "text": [
            "."
          ],
          "name": "stderr"
        },
        {
          "output_type": "stream",
          "text": [
            "\t Testing continuous LP solution - export JSON\n"
          ],
          "name": "stdout"
        },
        {
          "output_type": "stream",
          "text": [
            "."
          ],
          "name": "stderr"
        },
        {
          "output_type": "stream",
          "text": [
            "\t Testing continuous LP solution - export solver dict\n"
          ],
          "name": "stdout"
        },
        {
          "output_type": "stream",
          "text": [
            "."
          ],
          "name": "stderr"
        },
        {
          "output_type": "stream",
          "text": [
            "\t Testing continuous LP solution - export solver JSON\n"
          ],
          "name": "stdout"
        },
        {
          "output_type": "stream",
          "text": [
            ".........."
          ],
          "name": "stderr"
        },
        {
          "output_type": "stream",
          "text": [
            "\t Testing reading MPS files - binary variable, no constraint names\n",
            "\t Testing reading MPS files - integer variable\n",
            "\t Testing reading MPS files - maximize\n",
            "\t Testing makeDict general behavior\n",
            "\t Testing makeDict default value behavior\n",
            "\t Testing the availability of the function pulpTestAll\n",
            "\t Testing zero subtraction\n",
            "\t Testing inconsistent lp solution\n",
            "\t Testing continuous LP solution\n"
          ],
          "name": "stdout"
        },
        {
          "output_type": "stream",
          "text": [
            "."
          ],
          "name": "stderr"
        },
        {
          "output_type": "stream",
          "text": [
            "\t Testing maximize continuous LP solution\n"
          ],
          "name": "stdout"
        },
        {
          "output_type": "stream",
          "text": [
            ".."
          ],
          "name": "stderr"
        },
        {
          "output_type": "stream",
          "text": [
            "\t Testing unbounded continuous LP solution\n",
            "\t Testing Long Names\n"
          ],
          "name": "stdout"
        },
        {
          "output_type": "stream",
          "text": [
            ".."
          ],
          "name": "stderr"
        },
        {
          "output_type": "stream",
          "text": [
            "\t Testing repeated Names\n",
            "\t Testing zero constraint\n"
          ],
          "name": "stdout"
        },
        {
          "output_type": "stream",
          "text": [
            "."
          ],
          "name": "stderr"
        },
        {
          "output_type": "stream",
          "text": [
            "\t Testing zero objective\n"
          ],
          "name": "stdout"
        },
        {
          "output_type": "stream",
          "text": [
            "."
          ],
          "name": "stderr"
        },
        {
          "output_type": "stream",
          "text": [
            "\t Testing LpVariable (not LpAffineExpression) objective\n"
          ],
          "name": "stdout"
        },
        {
          "output_type": "stream",
          "text": [
            ".."
          ],
          "name": "stderr"
        },
        {
          "output_type": "stream",
          "text": [
            "\t Testing LpAffineExpression divide\n"
          ],
          "name": "stdout"
        },
        {
          "output_type": "stream",
          "text": [
            "."
          ],
          "name": "stderr"
        },
        {
          "output_type": "stream",
          "text": [
            "\t Testing MIP solution\n"
          ],
          "name": "stdout"
        },
        {
          "output_type": "stream",
          "text": [
            "."
          ],
          "name": "stderr"
        },
        {
          "output_type": "stream",
          "text": [
            "\t Testing MIP solution with floats in objective\n"
          ],
          "name": "stdout"
        },
        {
          "output_type": "stream",
          "text": [
            "."
          ],
          "name": "stderr"
        },
        {
          "output_type": "stream",
          "text": [
            "\t Testing MIP solution\n"
          ],
          "name": "stdout"
        },
        {
          "output_type": "stream",
          "text": [
            "."
          ],
          "name": "stderr"
        },
        {
          "output_type": "stream",
          "text": [
            "\t Testing MIP solution\n"
          ],
          "name": "stdout"
        },
        {
          "output_type": "stream",
          "text": [
            "./usr/local/lib/python3.6/dist-packages/pulp/apis/choco_api.py:83: UserWarning: CHOCO_CMD cannot solve the relaxation of a problem\n",
            "  warnings.warn(\"CHOCO_CMD cannot solve the relaxation of a problem\")\n"
          ],
          "name": "stderr"
        },
        {
          "output_type": "stream",
          "text": [
            "\t Testing MIP relaxation\n"
          ],
          "name": "stdout"
        },
        {
          "output_type": "stream",
          "text": [
            "."
          ],
          "name": "stderr"
        },
        {
          "output_type": "stream",
          "text": [
            "\t Testing feasibility problem (no objective)\n"
          ],
          "name": "stdout"
        },
        {
          "output_type": "stream",
          "text": [
            "."
          ],
          "name": "stderr"
        },
        {
          "output_type": "stream",
          "text": [
            "\t Testing an infeasible problem\n"
          ],
          "name": "stdout"
        },
        {
          "output_type": "stream",
          "text": [
            "."
          ],
          "name": "stderr"
        },
        {
          "output_type": "stream",
          "text": [
            "\t Testing an integer infeasible problem\n"
          ],
          "name": "stdout"
        },
        {
          "output_type": "stream",
          "text": [
            "."
          ],
          "name": "stderr"
        },
        {
          "output_type": "stream",
          "text": [
            "\t Testing another integer infeasible problem\n"
          ],
          "name": "stdout"
        },
        {
          "output_type": "stream",
          "text": [
            "."
          ],
          "name": "stderr"
        },
        {
          "output_type": "stream",
          "text": [
            "\t Testing column based modelling\n"
          ],
          "name": "stdout"
        },
        {
          "output_type": "stream",
          "text": [
            "....."
          ],
          "name": "stderr"
        },
        {
          "output_type": "stream",
          "text": [
            "\t Testing fractional constraints\n"
          ],
          "name": "stdout"
        },
        {
          "output_type": "stream",
          "text": [
            "."
          ],
          "name": "stderr"
        },
        {
          "output_type": "stream",
          "text": [
            "\t Testing elastic constraints (no change)\n"
          ],
          "name": "stdout"
        },
        {
          "output_type": "stream",
          "text": [
            "."
          ],
          "name": "stderr"
        },
        {
          "output_type": "stream",
          "text": [
            "\t Testing elastic constraints (freebound)\n"
          ],
          "name": "stdout"
        },
        {
          "output_type": "stream",
          "text": [
            "."
          ],
          "name": "stderr"
        },
        {
          "output_type": "stream",
          "text": [
            "\t Testing elastic constraints (penalty unchanged)\n"
          ],
          "name": "stdout"
        },
        {
          "output_type": "stream",
          "text": [
            ".............."
          ],
          "name": "stderr"
        },
        {
          "output_type": "stream",
          "text": [
            "\t Testing elastic constraints (penalty unbounded)\n",
            "\t Testing timeLimit argument\n"
          ],
          "name": "stdout"
        },
        {
          "output_type": "stream",
          "text": [
            "................................\n",
            "----------------------------------------------------------------------\n",
            "Ran 231 tests in 39.766s\n",
            "\n",
            "OK\n"
          ],
          "name": "stderr"
        }
      ]
    },
    {
      "cell_type": "code",
      "metadata": {
        "id": "Zvc5u3pGWcuP"
      },
      "source": [
        "#A Blending Problem: https://coin-or.github.io/pulp/CaseStudies/a_blending_problem.html\r\n",
        "#Zastanawiamy się jak zmaksymalizowac zyski\r\n",
        "#Opis: Robimy karme dla kotów, klient chce aby były spełnione wymagane normy produktu, \r\n",
        "#czyli ma być odpowiednia ilosc różnych składników. Mamy zadana określoną cene różnych produktów, a okreslone produkty mają różne składniki \r\n",
        "#Celem jest jak najtansze wyprodukowanie karmy\r\n",
        "#Zmienne wystepujace w programie: ilość składników\r\n",
        "\r\n",
        "\r\n",
        "#Podejscie #1\r\n",
        "#Testuje model uproszczony,  rozważam porównanie kurczaka i tuńczyka \r\n",
        "#Wartosci skladnikow odzywczysz sa opisane ponizej"
      ],
      "execution_count": null,
      "outputs": []
    },
    {
      "cell_type": "code",
      "metadata": {
        "colab": {
          "base_uri": "https://localhost:8080/"
        },
        "id": "OjOtZLPFXNWc",
        "outputId": "90d2d118-de17-4f31-d400-2b097eb5b671"
      },
      "source": [
        "\r\n",
        "#Importowanie biblioteki PuLP do naszego programu\r\n",
        "from pulp import *\r\n",
        "\r\n",
        "#Inicjalizacja zmiennej do której będą dodawane warunki problemu. LpMinimize świadczy o fakcie, że dążymy do minimalizacji kosztów produkcji przy dostarczeniu odpowiednich sładników odżywczych.\r\n",
        "prob = LpProblem(\"The_Whiskas_Problem\",LpMinimize)\r\n",
        "\r\n",
        "#Zmienne x1 i x2 będą odpowiadać parametrom kolejno dla Kurczaka i Tuńczyka\r\n",
        "x1 = LpVariable(\"Kurczak\", 0, None, LpInteger)\r\n",
        "x2 = LpVariable(\"Tuńczyk\", 0, None, LpInteger)\r\n",
        "\r\n",
        "#Wykorzystujemy informacje dotyczące ceny danego produktu. Na stronie do której link został umieszczony wyżej znajdują się informacje co do Kurczaka. Tuńczyka przyjąłem według własnych upodobań. \r\n",
        "#Wiemy więc, że cena kurczaka to 0.013, a tuńzyka 0.011. W zależności od proporcji x1 (kurczak) i x2 (tuńczyk), będzie kształtować się cena za puszczkę produktu.\r\n",
        "prob += 0.013*x1 + 0.011*x2, \"Całkowity_koszt_na_opakowanie\"\r\n",
        "\r\n",
        "#Suma procentowa oznaczająca, że ostatecznie na jedną puszczkę musi przypadać 100% półproduktu. Nie może występować sytuacja, że puszczka będzie zapełniona pożywieniem w mniejszym stopniu.\r\n",
        "prob += x1 + x2 == 100, \"Suma_procentowa\"\r\n",
        "\r\n",
        "#Ilość białka nie może być mniejsza niż 8 (Zgodnie z \"A Blending Problem\"). Poniższy warunek przyjmuje znane wartości składu x1 i x2 i zapewnia iż wartość białka musi być większa bądź równa 8. \r\n",
        "prob += 0.100*x1 + 0.250*x2 >= 8.0, \"Białko \"\r\n",
        "\r\n",
        "#Podobnie jak powyżej, tym razem zawartość tłuszczu w puszce nie może być mniejsza niż 6.\r\n",
        "prob += 0.080*x1 + 0.090*x2 >= 6.0, \"Tłuszcz\"\r\n",
        "\r\n",
        "#Zawartość węglowodanów musi być mniejsza bądź równa 2 na puszkę.\r\n",
        "prob += 0.001*x1 + 0.001*x2 <= 2.0, \"Węgle\"\r\n",
        "\r\n",
        "#Zawartość soli musi być mniejsza bądź równa 0.4 na puszkę. Należy zaznaczyć, że jest to warunek w naszym przypadku bardzo znaczący. Przyjąłem bardzo korzystne warunki dla tuńczyka (czyt. cene, białko, tłuszcz, węglowodany)\r\n",
        "#Pomimo tego, tuńczyk charakteryzuje się wysoką zawartością soli. Gdyby nie ten warunek, kurczak nie miałby sensu pojawić się w składzie karmy. \r\n",
        "prob += 0.002*x1 + 0.007*x2 <= 0.4, \"Sól\"\r\n",
        "\r\n",
        "#Przypisanie nazwy naszego problemu\r\n",
        "prob.writeLP(\"WhiskasModel.lp\")\r\n",
        "\r\n",
        "#Wywołaniue funkcji rozwiązującej problem przy założeniu wyżej omawianyh warunków\r\n",
        "prob.solve()\r\n",
        "\r\n",
        "#Wyprintowanie statusu problemu. Czy jest on możliwy do rozwiązania czy też nie i jaki poziom przyjmuje\r\n",
        "print(\"Status: \", LpStatus[prob.status])\r\n",
        "\r\n",
        "#Wyprintowanie nazw naszych zmiennych x1 (kurczak) i x2 (tuńczyk) oraz odpowiadający im udział procentowy na puszkę\r\n",
        "for v in prob.variables():\r\n",
        "  print(v.name, \"=\", v.varValue)\r\n",
        "\r\n",
        "#Wyprintowanie kosztu jednej puszki karmy\r\n",
        "print(\"Całkowity koszt jednej puszki = \", value(prob.objective))"
      ],
      "execution_count": 7,
      "outputs": [
        {
          "output_type": "stream",
          "text": [
            "Status:  Optimal\n",
            "Kurczak = 60.0\n",
            "Tuńczyk = 40.0\n",
            "Całkowity koszt jednej puszki =  1.2199999999999998\n"
          ],
          "name": "stdout"
        }
      ]
    },
    {
      "cell_type": "code",
      "metadata": {
        "colab": {
          "base_uri": "https://localhost:8080/"
        },
        "id": "bFlZMtd8XS7Z",
        "outputId": "d3c34600-ecf5-4533-dac9-1cc10a408fed"
      },
      "source": [
        "#Podejscie #2 do \"A Blending Problem\" \r\n",
        "#Testuje rozwinięty model uwzględniający inne składniki: baranine, ryż, przenice, żel\r\n",
        "\r\n",
        "#Wymieniam wolowine na tuńczyka: białko 0.3, tłuszcz 0.09, węgle 0.001, salt 0.007, cena= 0.02 \r\n",
        "\r\n",
        "\r\n",
        "from pulp import *\r\n",
        "\r\n",
        "#Lista nazw naszych półproduktów\r\n",
        "Ingredients = ['CHICKEN', 'TUNA', 'MUTTON', 'RICE', 'WHEAT', 'GEL']\r\n",
        "\r\n",
        "#Przypisanie do zmiennych wartości\r\n",
        "#https://coin-or.github.io/pulp/CaseStudies/a_blending_problem.html\r\n",
        "costs = {'CHICKEN': 0.013,\r\n",
        "         'TUNA': 0.020,\r\n",
        "         'MUTTON': 0.150,\r\n",
        "         'RICE': 0.000,\r\n",
        "         'WHEAT': 0.040,\r\n",
        "         'GEL': 0.000}\r\n",
        "\r\n",
        "proteinPercent = {'CHICKEN': 0.100, \r\n",
        "                  'TUNA': 0.300, \r\n",
        "                  'MUTTON': 0.150, \r\n",
        "                  'RICE': 0.000, \r\n",
        "                  'WHEAT': 0.040, \r\n",
        "                  'GEL': 0.000}\r\n",
        "\r\n",
        "fatPercent = {'CHICKEN': 0.080, \r\n",
        "              'TUNA': 0.090, \r\n",
        "              'MUTTON': 0.110, \r\n",
        "              'RICE': 0.010, \r\n",
        "              'WHEAT': 0.010, \r\n",
        "              'GEL': 0.000}\r\n",
        "\r\n",
        "fibrePercent = {'CHICKEN': 0.001, \r\n",
        "                'TUNA': 0.001, \r\n",
        "                'MUTTON': 0.003, \r\n",
        "                'RICE': 0.100, \r\n",
        "                'WHEAT': 0.150, \r\n",
        "                'GEL': 0.000}\r\n",
        "\r\n",
        "saltPercent = {'CHICKEN': 0.002, \r\n",
        "               'TUNA': 0.007, \r\n",
        "               'MUTTON': 0.007, \r\n",
        "               'RICE': 0.002, \r\n",
        "               'WHEAT': 0.008, \r\n",
        "               'GEL': 0.000}\r\n",
        "\r\n",
        "#Inicjalizacja zmiennej do której będą dodawane warunki problemu. LpMinimize świadczy o fakcie, że dążymy do minimalizacji kosztów produkcji przy dostarczeniu odpowiednich sładników odżywczych.\r\n",
        "prob = LpProblem(\"The whiskas problem\", LpMinimize)\r\n",
        "\r\n",
        "#Tworzymy słownik dla zmiennych dostępnych dla biblioteki PuLP w celu klarowności kodu i łatwiejszego przeprowadzenia poniższych operacji \r\n",
        "ingredient_vars = LpVariable.dicts(\"Ingr\", Ingredients, 0)\r\n",
        "\r\n",
        "#Pierwszy warunek dający nam infomracje zwrotną o kosztach wyprodukowania jednej puszki. Z słownika \"costs\" pobierana jest cena danego produktu i mnożona z daną zmienną x1, x2...Przy czym każde xn to kolejny półprodukt np. x1 = \"CHICKEN\", x2 = \"TUNA\"...\r\n",
        "#W zależności od dobranego przez program składu, otrzymamy cene, która przez ten probram ma zostać zminimalizowana przy zachowaniu poniżej omawianych warunków. \r\n",
        "prob += lpSum([costs[i]*ingredient_vars[i] for i in Ingredients]), \"Total Cost of Ingredients per can\"\r\n",
        "\r\n",
        "#Suma procentowa oznacza, że niezależnie od doboru składników, musi ona ostatecznie wynosić 100%, to znaczy puszka musi zostać zapełniona mieszanką w 100%.\r\n",
        "prob += lpSum([ingredient_vars[i] for i in Ingredients]) == 100, \"PercentagesSum\"\r\n",
        "\r\n",
        "#Warunki poszczególnych wartości odżywczych takie same jak w modelu uproszczonym. Kolejno przyjmowane: białko, tłuszcz, węglowodany, sól.\r\n",
        "prob += lpSum([proteinPercent[i] * ingredient_vars[i] for i in Ingredients]) >= 8.0, \"ProteinRequirement\"\r\n",
        "prob += lpSum([fatPercent[i] * ingredient_vars[i] for i in Ingredients]) >= 6.0, \"FatRequirement\"\r\n",
        "prob += lpSum([fibrePercent[i] * ingredient_vars[i] for i in Ingredients]) <= 2.0, \"FibreRequirement\"\r\n",
        "prob += lpSum([saltPercent[i] * ingredient_vars[i] for i in Ingredients]) <= 0.4, \"SaltRequirement\"\r\n",
        "\r\n",
        "#Funkcja rozwiązująca problem na podstawie powyższych warunków\r\n",
        "prob.solve()\r\n",
        "\r\n",
        "#Wyprintowanie statusu problemu. Czy jest on możliwy do rozwiązania czy też nie i jaki poziom przyjmuje\r\n",
        "print(\"Status: \", LpStatus[prob.status])\r\n",
        "\r\n",
        "#Wyprintowanie nazw zmiennych z odpowiadającym im udziałem procentowym na puszkę\r\n",
        "for v in prob.variables():\r\n",
        "  print(v.name, \"=\", v.varValue)\r\n",
        "\r\n",
        "#Wyprintowanie kosztu jednej puszki karmy\r\n",
        "print(\"Total Cost of Ingredients per can = \", value(prob.objective))"
      ],
      "execution_count": 8,
      "outputs": [
        {
          "output_type": "stream",
          "text": [
            "Status:  Optimal\n",
            "Ingr_CHICKEN = 68.144192\n",
            "Ingr_GEL = 8.6248331\n",
            "Ingr_MUTTON = 0.0\n",
            "Ingr_RICE = 19.279039\n",
            "Ingr_TUNA = 3.9519359\n",
            "Ingr_WHEAT = 0.0\n",
            "Total Cost of Ingredients per can =  0.9649132140000001\n"
          ],
          "name": "stdout"
        },
        {
          "output_type": "stream",
          "text": [
            "/usr/local/lib/python3.6/dist-packages/pulp/pulp.py:1199: UserWarning: Spaces are not permitted in the name. Converted to '_'\n",
            "  warnings.warn(\"Spaces are not permitted in the name. Converted to '_'\")\n"
          ],
          "name": "stderr"
        }
      ]
    },
    {
      "cell_type": "code",
      "metadata": {
        "colab": {
          "base_uri": "https://localhost:8080/",
          "height": 330,
          "referenced_widgets": [
            "0938d9f3b5924d659fa06917e8b72e4c",
            "ced16c96a1c844f3b5970b5384bb1660",
            "53fe993df6ce438aad5f4f44ea7823fb",
            "8617d45589184d54b7f9cc4a326896c8",
            "0fca0da2296b46bba3a813ed5e10dd50",
            "974e5e60a09e4d3582707573afb8a6f7",
            "a895b2334a174f55950ab581b0a80b75",
            "3e5a1c0bdde64c8e8f7182dcb62c3110",
            "1750755571f348589cdc9aa9a35dda44",
            "de1d5d725f0f44a28bccf1b67242967f",
            "7786f82c4023485686172f229681f0ee",
            "d80767f4acf54d7a9164a8a875e40fe2",
            "05a53adda6b74e4797de155d1ee1b017",
            "41da1fb200fd408680d9bb7a44d3134e",
            "8f8440bc7a04417ba1f09df9600e817a",
            "81978e73f6b64faaa35f1c9d0edc8cf5",
            "8c42c49ddb584c208a05c86a862c0e6f",
            "3fa0319e3ec24502837dbb753459b98b",
            "30bc839bf3084bc085cab3f32d607d78"
          ]
        },
        "id": "NS38BGG5YKCc",
        "outputId": "3fc3131c-1c26-4273-f062-060177f36245"
      },
      "source": [
        "#Podejście #3 - Wymieniam tuńczyka na sardynki. \r\n",
        "#Testowanie sliderów - Wszystkie parametry sardynek można modyfikować, z wyjątkiem witamy B, jej wartosc jest stale okreslona w zadaniu\r\n",
        "\r\n",
        "#Pojdejscie 3 jest analogiczne do podejscia 2, w zwiazku z tym uwazam, ze opis kodu jest zbedny\r\n",
        "\r\n",
        "from pulp import *\r\n",
        "from __future__ import print_function\r\n",
        "from ipywidgets import interact, interactive, fixed, interact_manual, Layout, FloatSlider, IntSlider\r\n",
        "import ipywidgets as widgets\r\n",
        "import pandas as pd\r\n",
        "\r\n",
        "style = {'description_width': 'initial'}\r\n",
        "sardynki_cena_slider = FloatSlider(min=0,max = 1, value= 0.014, description=\"sardynki_cena_slider\", style= style )\r\n",
        "sardynki_bialko_slider = FloatSlider(min=0,max = 1,value= 0.3, description=\"sardynki_bialko_slider\", style= style )\r\n",
        "sardynki_tluszcz_slider = FloatSlider(min=0,max = 1,value= 0.04, description=\"sardynki_tluszcz_slider\", style= style )\r\n",
        "sardynki_weglowodany_slider = FloatSlider(min=0,max = 1,value= 0.001, description=\"sardynki_weglowodany_slider\", style= style )\r\n",
        "sardynki_sol_slider = FloatSlider(min=0,max = 1,value= 0.003, description=\"sardynki_sol_slider\", style= style )\r\n",
        "\r\n",
        "\r\n",
        "def a_blending_problem(sardynki_cena = 0.014, sardynki_bialko = 0.3, sardynki_tluszcz = 0.04, sardynki_weglowodany = 0.001, sardynki_sol = 0.003):\r\n",
        "  Skladniki = ['KURCZAK', 'SARDYNKI', 'WOŁOWINA', 'BARANINA', 'RYŻ', 'PRZENICA', 'ŻEL']\r\n",
        "\r\n",
        "  koszt = {'KURCZAK': 0.013,  \r\n",
        "          'SARDYNKI': sardynki_cena,\r\n",
        "          'WOŁOWINA': 0.008,\r\n",
        "          'BARANINA': 0.010,\r\n",
        "          'RYŻ': 0.002,\r\n",
        "          'PRZENICA': 0.005,\r\n",
        "          'ŻEL': 0.001}\r\n",
        "\r\n",
        "  bialko = {'KURCZAK': 0.100,\r\n",
        "          'SARDYNKI': sardynki_bialko,\r\n",
        "          'WOŁOWINA': 0.200,\r\n",
        "          'BARANINA': 0.150,\r\n",
        "          'RYŻ': 0.000,\r\n",
        "          'PRZENICA': 0.040,\r\n",
        "          'ŻEL': 0.000}\r\n",
        "\r\n",
        "  tluszcz = {'KURCZAK': 0.080,\r\n",
        "          'SARDYNKI': sardynki_tluszcz,\r\n",
        "          'WOŁOWINA': 0.100,\r\n",
        "          'BARANINA': 0.110,\r\n",
        "          'RYŻ': 0.010,\r\n",
        "          'PRZENICA': 0.010,\r\n",
        "          'ŻEL': 0.000}\r\n",
        "\r\n",
        "  weglowodany = {'KURCZAK': 0.001,\r\n",
        "                'SARDYNKI': sardynki_weglowodany,\r\n",
        "                'WOŁOWINA': 0.005,\r\n",
        "                'BARANINA': 0.003,\r\n",
        "                'RYŻ': 0.100,\r\n",
        "                'PRZENICA': 0.150,\r\n",
        "                'ŻEL': 0.000}\r\n",
        "\r\n",
        "  sol = {'KURCZAK': 0.002,\r\n",
        "        'SARDYNKI': sardynki_sol,\r\n",
        "        'WOŁOWINA': 0.005,\r\n",
        "        'BARANINA': 0.007,\r\n",
        "        'RYŻ': 0.002,\r\n",
        "        'PRZENICA': 0.008,\r\n",
        "        'ŻEL': 0.000}\r\n",
        "\r\n",
        "  witaminaB = {'KURCZAK': 0.3,\r\n",
        "              'SARDYNKI': 8.9,\r\n",
        "              'WOŁOWINA': 2.6,\r\n",
        "              'BARANINA': 2.6,\r\n",
        "              'RYŻ': 0.0,\r\n",
        "              'PRZENICA': 0.0,\r\n",
        "              'ŻEL': 0.0}\r\n",
        "\r\n",
        "  zmiennaLpProblem = LpProblem(\"Problem Whiskasa\", LpMinimize)\r\n",
        "\r\n",
        "  slownikZmienne = LpVariable.dicts('Skladniki', Skladniki, 0)\r\n",
        "\r\n",
        "  zmiennaLpProblem += lpSum([koszt[i]*slownikZmienne[i] for i in Skladniki]), \"Całkowity koszt sładników na puszkę\"\r\n",
        "  zmiennaLpProblem += lpSum([slownikZmienne[i] for i in Skladniki]) == 100, \"Suma procentowa\"\r\n",
        "  zmiennaLpProblem += lpSum([bialko[i] * slownikZmienne[i] for i in Skladniki]) >= 8.0, \"Zawartość białka w puszce\"\r\n",
        "  zmiennaLpProblem += lpSum([tluszcz[i] * slownikZmienne[i] for i in Skladniki]) >= 6.0, \"Zawartość tłuszczu w puszce\"\r\n",
        "  zmiennaLpProblem += lpSum([weglowodany[i] * slownikZmienne[i] for i in Skladniki]) <= 2.0, \"Zawartość węglowodanów w puszce\"\r\n",
        "  zmiennaLpProblem += lpSum([sol[i] * slownikZmienne[i] for i in Skladniki]) <= 0.4, \"Zawartość soli w puszce\"\r\n",
        "  zmiennaLpProblem += lpSum([witaminaB[i] * slownikZmienne[i] for i in Skladniki]) >= 0.8, \"Zawartość witaminy B w puszce\"\r\n",
        "\r\n",
        "\r\n",
        "  zmiennaLpProblem.solve()\r\n",
        "\r\n",
        "  print(\"Końcowy produkt będzie kosztować \", value(zmiennaLpProblem.objective))\r\n",
        "  for v in zmiennaLpProblem.variables():\r\n",
        "    print(\"będzie miał \", v.name, \" : \", v.varValue,\"%\")\r\n",
        "  \r\n",
        "interact(a_blending_problem, sardynki_cena = sardynki_cena_slider,\r\n",
        "         sardynki_bialko = sardynki_bialko_slider,\r\n",
        "         sardynki_tluszcz = sardynki_tluszcz_slider,\r\n",
        "         sardynki_weglowodany = sardynki_weglowodany_slider,\r\n",
        "         sardynki_sol = sardynki_sol_slider)"
      ],
      "execution_count": 9,
      "outputs": [
        {
          "output_type": "display_data",
          "data": {
            "application/vnd.jupyter.widget-view+json": {
              "model_id": "0938d9f3b5924d659fa06917e8b72e4c",
              "version_minor": 0,
              "version_major": 2
            },
            "text/plain": [
              "interactive(children=(FloatSlider(value=0.014, description='sardynki_cena_slider', max=1.0, style=SliderStyle(…"
            ]
          },
          "metadata": {
            "tags": []
          }
        },
        {
          "output_type": "execute_result",
          "data": {
            "text/plain": [
              "<function __main__.a_blending_problem>"
            ]
          },
          "metadata": {
            "tags": []
          },
          "execution_count": 9
        }
      ]
    }
  ]
}